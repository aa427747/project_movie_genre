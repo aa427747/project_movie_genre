{
 "cells": [
  {
   "cell_type": "code",
   "execution_count": 1,
   "metadata": {},
   "outputs": [],
   "source": [
    "import pandas as pd\n",
    "import numpy as np\n",
    "import json\n",
    "import nltk\n",
    "import re\n",
    "import csv\n",
    "import matplotlib.pyplot as plt \n",
    "import seaborn as sns\n",
    "from tqdm import tqdm\n",
    "from sklearn.feature_extraction.text import TfidfVectorizer\n",
    "from sklearn.model_selection import train_test_split\n",
    "import pickle\n",
    "from sklearn.linear_model import LogisticRegression\n",
    "from sklearn.multiclass import OneVsRestClassifier\n",
    "from sklearn.metrics import f1_score\n",
    "from sklearn.preprocessing import MultiLabelBinarizer\n",
    "from nltk.corpus import stopwords\n"
   ]
  },
  {
   "cell_type": "code",
   "execution_count": 2,
   "metadata": {},
   "outputs": [],
   "source": [
    "# function for text cleaning \n",
    "def clean_text(text):\n",
    "    # remove backslash-apostrophe \n",
    "    text = re.sub(\"\\'\", \"\", text) \n",
    "    # remove everything except alphabets \n",
    "    text = re.sub(\"[^a-zA-Z]\",\" \",text) \n",
    "    # remove whitespaces \n",
    "    text = ' '.join(text.split()) \n",
    "    # convert text to lowercase \n",
    "    text = text.lower() \n",
    "    \n",
    "    return text\n",
    "\n",
    "# nltk.download('stopwords')\n",
    "stop_words = set(stopwords.words('english'))\n",
    "\n",
    "# function to remove stopwords\n",
    "def remove_stopwords(text):\n",
    "    no_stopword_text = [w for w in text.split() if not w in stop_words]\n",
    "    return ' '.join(no_stopword_text)"
   ]
  },
  {
   "cell_type": "code",
   "execution_count": 3,
   "metadata": {},
   "outputs": [],
   "source": [
    "# load the model from disk\n",
    "modelname = 'movie_genrepredict.sav'\n",
    "clf = pickle.load(open(modelname, 'rb'))\n",
    "\n",
    "transformname = 'movie_genretranformpredict.sav'\n",
    "tfidf_vectorizer = pickle.load(open(transformname, 'rb'))\n",
    "\n",
    "multiname = 'movie_genreyvaluepredict.sav'\n",
    "multilabel_binarizer = pickle.load(open(multiname, 'rb'))"
   ]
  },
  {
   "cell_type": "code",
   "execution_count": 14,
   "metadata": {},
   "outputs": [],
   "source": [
    "def infer_tags(q):\n",
    "    q = clean_text(q) ## Defined function for clean\n",
    "    q = remove_stopwords(q) ## Defined function for removing stop words\n",
    "    q_vec = tfidf_vectorizer.transform([q]) ##create TF-IDF features \n",
    "    q_pred = clf.predict(q_vec) ## The models predict.\n",
    "    return multilabel_binarizer.inverse_transform(q_pred)\n",
    "\n",
    "def infer_tags_prob(q, t=0.3):\n",
    "    q = clean_text(q) ## Defined function for clean\n",
    "    q = remove_stopwords(q) ## Defined function for removing stop words\n",
    "    q_vec = tfidf_vectorizer.transform([q]) ##create TF-IDF features \n",
    "    q_pred = clf.predict_proba(q_vec) ## The models predict.\n",
    "    q_pred_new = (q_pred >= t).astype(int)\n",
    "    return ', '.join(multilabel_binarizer.inverse_transform(q_pred_new)[0])"
   ]
  },
  {
   "cell_type": "code",
   "execution_count": 16,
   "metadata": {},
   "outputs": [
    {
     "name": "stdout",
     "output_type": "stream",
     "text": [
      "Predicted genre:  drama\n"
     ]
    }
   ],
   "source": [
    "movie_plot = \"Matuschek's, a gift store in Budapest, is the workplace of Alfred Kralik (James Stewart) and the newly hi Ed Klara Novak (Margaret Sullavan). At work they constantly irritate each other, but this daily aggravation is tempered by the fact that each has a secret pen pal with which they trade long soul-searching letters. Romantic correspondence is sent back and forth, and while Alfred and Klara trade barbs at work, they dream of someday meeting their sensitive, caring and unknown pen pal.Christmas is fast approaching, and the store is busy. Alfred had been with the store for some time, and has always been treated well by Mr. Matuschek (Frank Morgan), but lately his attitude has changed. Alfred is at a loss, and Matuschek avoids any explanation, finally telling Alfred that it would be best if he left. Stunned, Alfred accepts his last paycheck and says goodbye to everyone, including Klara. For once they are civil to each other.A long awaited meeting of the secret pen pals was planned for that night, and Alfred having just lost his job has no desire to go. Finding he can't fight his curiosity, he wanders to the restaurant where they'd agreed to meet and peeks in the window with his fellow employee. Of course, Klara is there waiting for him, with the chosen book and wearing a red carnation they'd agreed to use as a signal. Realizing that he'd been wrong about her all along, and that his irritation with her was actually masking his attraction, he finally enters and goes over to her table, but does not reveal his true reason for being there although he is aware she will be hurt that her pen pal doesn't show up. Alfred, hurt by her rudeness, finally leaves, knowing that she will wait all night for someone who is no longer coming.Meanwhile, back at the store, Mr. Matuschek has a late-night meeting with a private detective. He knows that his wife has been having an affair with one of his employees, and was convinced it was his trusted friend, Alfred. The detective however tells Matuschek it is in fact another employee and, heart-broken over his wife's infidelity he retires to his office. The delivery boy, returning late, enters and prevents Matuschek shooting himself with a pistol. Collapsing in grief and shame, Matuschekis rushed to the hospital.The next day Alfred visits Mr. Matuschek in his sick bed, where he asks for Alfred's forgiveness and puts him back to work, now as manager of the store. The delivery boy is rewarded with a raise to a store clerk. Klara arrives at work late, obviously heartbroken after the failure of her correspondent to materialize last night. When she finds Alfred in the manager's office she doesn't believe him and when she discovers it is true she faints in the middle of his office. Later, as she is resting at home, Alfred pays her a visit, and while he is there her aunt brings her another letter from her secret pen pal that explains his not being at the meeting because he saw her there with Alfred. Relieved about the misunderstanding she swears to Alfred she'll be back at work in the morning. Alfred is obviously working on a plan to reveal himself to Klara.Christmas Eve is here, and everyone works through the day. Mr. Matuschek has nearly recovered from his sickness and stops by to see how things are going, and when the final tally is made, the store has had its best sales day since 1928. Delighted, he hands out bonuses to all, and takes the new stock boy out for Christmas dinner. Alfred and Klara are getting ready to leave, and she has another date with her mystery pen pal, but Alfred delays her with a few questions. She's never yet seen him and doesn't even know his name but is convince end she will be engaged when she comes back to work. He tells her that the mysterious pen pal stopped by to see him earlier, and he is in fact fat, bald, older and unemployed and quite willing to live off Klara's income.  Alfred reveals himself when he puts a red carnation in his lapel and suddenly eveything becomes clear to her.\"\n",
    "print(\"Predicted genre: \", infer_tags_prob(movie_plot))"
   ]
  },
  {
   "cell_type": "code",
   "execution_count": 17,
   "metadata": {},
   "outputs": [
    {
     "name": "stdout",
     "output_type": "stream",
     "text": [
      "Predicted genre:  \n"
     ]
    }
   ],
   "source": [
    "movie_plot = \"The 1941 version of the Wolf Man opens with the Universal Picture airplane and globe logo and theme, followed by title and credits. The featured players are shown with the actors name and character's name. We zoom in on a shelf of books. An encyclopedia is opened to the article on Lycanthropy. Talbot Castle is mentioned in the old legend.The chauffeur (an uncredited Eric Wilton) drives Lawrence Stewart Talbot, known affectionately, as Larry (Lon Chaney, Jr.) to the family home, Talbot Castle. He is greeted, very formally, by his father, Sir John Talbot (Claude Rains). They enter a large room and Larry is introduced to Captain Paul Montford (Ralph Bellamy), the chief constable of the district. Larry expresses his sorrow over the death of his older brother, and heir to the family estate, John. Sir John apologizes for being so distant. Larry has been away for eighteen years. Two butlers enter the room carrying a large crate: a part for the telescope. Sir John and Larry walk up to the attic, now serving as an observatory. Larry works on the telescope, having worked for an optical company in California. He proudly explains one job was on the Mt. Wilson observatory. Larry trains his telescope on the town below and spots Gwen Conliffe (Evelyn Ankers) in her room putting on earrings. He takes a trip to Conliffe's antique shop hoping to meet Gwen in person. He does and asks for earrings as a gift. Larry asks for a very specific pair, then tells Gwen she has a pair up in her room. He decides to buy a cane. Larry grabs one with a silver wolf's head and jokes that it would make a good golf putter. Larry is trying to be charming, but balks at paying three pounds until Gwen explains, Well, that's a very rare piece. It shows the wolf and the pentagram, the sign of the werewolf. She tells him a bit of the legend. She recites the old poem, Even a man who is pure in heart and says his prayers by night, may become a wolf when the wolfbane blooms, and the autumn moon is bright. A noise outside draws Gwen to the street outside. An old gypsy woman, Maleva (Maria Ouspenskaya) and her son Bela (Bela Lugosi) are riding into town with their cart and wagon.Larry returns to the house and asks his father about the legend. Sir John repeats the poem which leads the conversation to Gwen. Sir John encourages Larry to get to know the townsfolk. Gwen exits the shop that evening, and at the appointed time, Larry arrives. Gwen introduces Jenny Williams (Fay Helm). So Larry is resigned to a three-person date. Jenny sees wolfbane blooming and gathers some, reciting the poem. The three enter the gypsy camp. Bela greets them. They come to have their fortunes told. Jenny insists on having her fortune told first. Maleva stares at Gwen and Larry, and then enters her tent. Bela tells Jenny to cut the cards. Larry and Gwen go off for a walk. Larry admits he watched her through his telescope. Gwen has an admission of her own, she is engaged to be married soon. Bela arranges the cards and stares at the flowers. Annoyed, Bela throws the flowers off the table and brushes his hair aside. There is a pentagram star on his forehead. Jenny demands to know what Bela saw in the cards. Bela asks for her hands, the left shows the past and the right shows the future. Bela sees the pentagram in a circle on her right hand: the next victim of the werewolf. Bela is now in a panic and demands Jenny leave, and quickly. Jenny runs through the woods, Larry and Gwen hear a wolf howl. Jenny screams and Larry runs off to help her. He sees a wolf attacking Jenny. The wolf turns on Larry and they struggle. He beats the animal with his cane, using the silver wolf head to kill the beast. Larry was bitten in the struggle and staggers away. Gwen finds Larry and calls for help from Maleva who is passing in her cart. Maleva agrees to help and take him home to the castle.The butler, Kendall (an uncredited Leyland Hodgson), goes to the door and admits Larry, Gwen and Maleva. Gwen and the butler help Larry to an entry table. Maleva makes a quiet exit. A villager reports the death of Jenny, and Montford leaves with the man to investigate. Sir John and the butler take Larry upstairs to his room. A doctor is called. Twiddle (Forrester Harvey) takes notes as Montford dictates. Dr. Lloyd (Warren William) examines Jenny remains and his observations are added to the notes. Frank Andrews (Patric Knowles) finds the body of Bela near Jenny. Larrys cane is found next to Belas body.Larry wakes in his bedroom in Talbot Castle. Sir John, Dr. Lloyd and Montford enter the room. Montford asks Larry if the cane his is holding belongs to Larry. Larry says, Why, of course. That iss the one I killed the wolf with. Sir John tells his son that Bela the gypsy was killed and his cane was found near the body. The bite marks are gone. Sir John has an explanation for the scene of the crime and the doctor agrees, but Montford is not satisfied.In town, Larry is present when Belas casket is brought into the church for services. Larry enters the church. Before he can open the lid and examine the body, the minister and Maleva enter the church. The minister is upset at the pending pagan celebration for Bela. Maleva opens the casket and recites, The way you walked was thorny, through no fault of your own. But as the rain enters the soil, the river enters the sea, so tears run to a predestined end. Your suffering is over, Bela, my son. Now you will find peace.Charles Conliffe (J.M. Kerrigan) reassures his daughter, Gwen, that there is nothing the authorities can accuse her of. Gwen is still upset over Jennys death. Jennys mother, Mrs. Williams (an uncredited Doris Lloyd), along with other women of the village, confront Mr. Conliffe over Gwens involvement in her daughters death. Things escalate and Conliffe demands they all leave. Larry enters the shop and confronts the women. They exit in a hurry. Larry enters the parlor to talk to Gwen. She wants to know exactly what happened. Frank Andrews enters the shop with his dog. He walks to the parlor to talk to Gwen and Larry. The dog begins to bark at Larry. Gwen suggests her fiancÃ© take the dog outside. Gwen and Larry discuss Frank while he is attending to his dog. Gwen explains that Frank is the gamekeeper on Sir Johns estate. Larry extends his hand to Andrews, but Frank just stares at his hand, but does not shake it. Larry excuses himself. Gwen asks, Frank, why were you so rude? He explains he was mesmerized by the walking stick, and adds, Well, there is something very tragic about that man. I am sure that nothing but harm will come to you through him.  Gwen and Frank attend the gypsy carnival and celebration for Bela. Larry shows up to watch the dancing. The three walk over to the target shooting booth. Larry does well with the rifle until a wolf figure pops up on the board. Larry walks over to the encampment. Maleva is there and wants to talk. She tells him she expected him sooner. Larry and Maleva enter the tent. She tells Larry that the wolf was Bela. She explains, Bela became a wolf, and you killed him. A werewolf can be killed only with a silver bullet, or a silver knife, or a stick with a silver handle. Larry insists he killed an ordinary wolf. Maleva gives him a charm with a pentagram on it. She tells him, It can break the evil spell. Maleva recites another section of the legend, Whoever is bitten by a werewolf and lives, becomes a werewolf himself. Larry admits the wolf bit him. Maleva places the charm around Larrys neck and tells him to keep it on and over his heart, always. She asks to see the wound. Larry runs off, and Montford sees Maleva exit her tent. The word is spread amongst the gypsies and they break camp and prepare to leave the area.Larry bumps into Gwen. She and Frank had a quarrel so Larry volunteers to walk her home. She asks about the curious charm. He divulges that he is now a werewolf and gives Gwen the charm for her protection. Larry steals a kiss, but the noise of the gypsies scares Gwen off. One gypsy tells Larry they are frightened because there is a werewolf in camp. Larry reflects on the events of the past and runs home. In his room, Larry checks himself for any physical changes. He removes his shoes and one sock. To his horror his leg and foot are covered with tufts of hair. He removes the other sock and both feet and legs are now covered with a thick matting of long hair. The feet transform to animal paws. Larry stands and walks on his toes. He finds himself outside, prowling around the cemetery. His hands are now claws, and his face is dark and hairy. He sports sharp, long, canine teeth. Richardson, the gravedigger (an uncredited Tom Stevenson) is finishing up Jenny Williams grave and spots the Wolf Man. It growls at the gravedigger, then attacks and kills him. The howling wakes the townsfolk. Montford and Twiddle are joined by three other men by the body of the gravedigger. A severed jugular is the cause of death--the same as Jenny Williams. They spot wolf tracks in the dirt.The next morning an open window with wolf prints on the windowsill are seen. They lead to Larry Talbots bed and a fully dressed Larry just waking up. On his chest is the mark of the five pointed star. He tries to wipe away the footprints, and then sees Montford investigating the garden below his window. Sir John informs his son that Richardson, the gravedigger, was killed and that the tracks lead up to the castle. Father and son discuss the legend until the church bell rings for morning services. The chauffeur drops the pair off at church. They greet the Conliffes outside then enter the church. Larry is uneasy and holds back. Everyone turns around to stare at the heir apparent to the Talbot estate. Larry quickly departs as the services begin.Sir John, Montford and Dr. Lloyd discuss the next steps needed in the main room of the castle. Larry enters the room and the discussion. Larry explains what they seek is a werewolf. Dr. Lloyd tells Larry it is a mental disorder. Andrews and Montford leave to set traps to catch the beast. After Larry leaves, Dr. Lloyd tells Sir John, Your son is a sick man. He is received a shock that has caused definite psychic maladjustment. You must send him out of this village. Sir John accuses Lloyd of talking like a witch doctor, and believes that Larry staying in town is the best for his cure. Traps are set and covered with leaves.That night Larry is back out on the prowl and is snared in one of the traps. He growls and pants, dragging the trap around the woods. Men with dogs approach. The Wolf Man is frantic to escape. The dogs have lost the scent. Maleva rides up in her cart. She finds the Wolf Man and sees the trap on his leg. She repeats the chant, The way you walk is thorny, speech, the same as she delivered for Bela. The Wolf Man changes back to Larry. She explains she is there to help. Larry removes the trap and runs off, but is stopped by two villagers on the hunt for the wolf. They recognize Master Larry and talk. Larry limps off and Montford follows. Larry goes into town and wakes Gwen. She lets him into the shop. He tells her he must go away. She agrees to accompany him, but he admits to killing Bela and Richardson. He is afraid he may hurt Gwen. He recoils when he sees the sign of the pentagram in her palm. Larry rushes home. He tells his father he killed Bela and that he will kill Gwen next. Sir John now sees that Maleva is the cause of Larrys delusions. Sir John ties Larry to a chair to humor him. Sir John leaves to join the hunt. Larry convinces his father to take the cane with the silver wolfs head handle. Sir John joins the hunt and explains his rationale to Dr. Lloyd. Maleva confronts Sir John. She assures him he should not fear the night as he has the silver cane for protection. As Sir John and Maleva discuss events gunshots are heard. Sir John runs off. The Wolf Man is back on the prowl. Gwen runs up to Maleva and inquires about Larry. Maleva warns her, Don not go through the woods. Maleva begs Gwen to accompany her, but Gwen runs off. The Wolf Man spots Gwen and stalks her in the woods. It closes in and she freezes. It attacks Gwen and she screams. Sir John is attacked and he strikes at the beast. They struggle, but Sir John gets a very good look at the mythical creature. Sir John knocks the Wolf Man to the ground, then beats it to death. Maleva drives up, gets out of her cart, and crouches down by the body of the Wolf Man. She repeats her, The way you walked was thorny, speech and to the astonished look of Sir John, it transforms back into his son, Larry. Sir John looks at the cane and realizes he killed his son and heir. He drops the cane and walks over and looks down on Larrys lifeless body. The posse runs towards the scene. Montford concludes, The wolf must have attacked her, and Larry came to the rescue. I am sorry, Sir John. We close with Gwen in Andrews arms. She says, Larry!\"\n",
    "print(\"Predicted genre: \", infer_tags_prob(movie_plot))"
   ]
  },
  {
   "cell_type": "code",
   "execution_count": 18,
   "metadata": {},
   "outputs": [
    {
     "name": "stdout",
     "output_type": "stream",
     "text": [
      "Predicted genre:  murder\n"
     ]
    }
   ],
   "source": [
    "movie = \"The film opens in an Anchorage motel room in 1983, where 17-year-old Cindy Paulson (Vanessa Hudgens) is handcuffed and screaming for help. She is rescued by an Anchorage Police Department patrol officer. He takes Paulson to the hospital, and her clothes are kept for a rape kit. At an APD station, she explains to detectives that she was abducted and raped. Because she is a prostitute and lying about her age, the detectives do not believe her story, refusing to even look into the man whom she named as her abductor, Robert Hansen (John Cusack). They claim Hansen is an upstanding member of society, a family man who owns his own restaurant, and has alibis from three people. The APD patrol officer who rescued Paulson is outraged that the detectives refuse to pursue Hansen. He surreptitiously photocopies information about the case and sends it to the Alaska State Troopers. Meanwhile, state trooper Jack Halcombe (Nicolas Cage) has been called to investigate a female body that was found in the bush, half eaten by bears. The police connect the case to other missing girls, who have disappeared after going to what they thought were legitimate photo shoots. With secret information from the APD officer, Halcombe connects the other cases to Paulson's and starts to put together a portrait of Hansen. Paulson details how Hansen kept her captive, and that she escaped from his car when he tried to transfer her to his bush plane. Meanwhile in Anchorage, Debbie Peters gets picked up by a man in an RV for a photo shoot. Later, Hansen eats a quiet dinner at home. His wife and children are away, and Hansen relaxes in his trophy room, casually ignoring Debbie who is chained to a post. She has urinated on the floor, and as she cleans up the mess with a towel, Hansen's neighbor enters the house to deliver a plate of food. Hansen warns Debbie not to scream and leaves the trophy room to greet his neighbor. Hansen then takes Debbie to the airport, where he orders her into his plane. After landing in a remote spot in the bush, Hansen frees Debbie, letting her run in a panic through the woods before he shoots her with a .223 caliber rifle. He steals her necklace before finishing her off with a handgun. Halcombe has a very difficult time assembling a case against Hansen. Because the evidence is circumstantial and Paulson is afraid to testify, the district attorney refuses to issue a search warrant. Paulson keeps falling back into the world of stripping and prostitution, despite Halcombe's efforts to keep her safe. At a strip club, while she is trying to sell lap dances, she notices Hansen trolling for a new victim. Their eyes meet, a chase ensues, and Paulson barely escapes. The encounter makes Hansen nervous, and he hires Carl Galenski to find and kill Paulson. Carl approaches Paulson's erstwhile pimp Clate Johnson (50 Cent) and offers to forgive his sizable debt if Clate turns Paulson over to him. Halcombe stakes out Hansen's house, causing Hansen to panic. Hansen gathers the evidence of his crimes, including the keepsakes from his victims, and flees with his son to the airport. He flies his plane to the bush and hides his keepsakes. Feeling that the chance to catch Hansen is slipping away, and with the victim count now at 17 girls, Halcombe forces the DA to issue a warrant. The search of Hansen's house yields no evidence, not even in his trophy room. Hansen agrees to be interrogated without a lawyer, but he is not yielding any new evidence. Halcombe arrests Hansen, but unless the police find new evidence, they will be unable to hold him. Halcombe orders a second search of Hansen's house, which turns up a hidden cache of guns, including the .223 caliber rifle used in many of the murders. Under police watch at a safe location, Paulson slips away and returns to her life of prostitution. Clate picks her up and delivers her to Carl. When Clate attempts to rob Carl, Paulson uses the opportunity to escape, with Carl in pursuit. After making a call to Halcombe, Paulson is almost killed by Carl, but Halcombe rescues her just in time. Halcombe uses a bracelet identical to one worn by one of the victims in order to trick Hansen into thinking the police have found where he hid the evidence in the bush. The bracelet, combined with the sight of Paulson in the interrogation room, enrages Hansen to the point that he incriminates himself. The epilogue states that Hansen confessed to the murder of 17 women and the kidnap and rape of another 30. He was charged with the abduction and rape of Cindy Paulson and the murders of Joanna Messina, Sherry Morrow, Paula Goulding and Eklutna Annie. He was sentenced to 461 years plus life without parole. Robert Hansen died in 2014 at the age of 75. Only 11 of his victim's bodies were recovered. Jack Halcombe remained with the Alaska State Troopers and was promoted. He is now retired. Cindy Paulson now lives in the lower 48 and married with 3 children. The film ends with a dedication and actual pictures of Hansen's victims.\"\n",
    "print(\"Predicted genre: \", infer_tags_prob(movie))\n"
   ]
  },
  {
   "cell_type": "code",
   "execution_count": 9,
   "metadata": {},
   "outputs": [
    {
     "data": {
      "text/html": [
       "<div>\n",
       "<style scoped>\n",
       "    .dataframe tbody tr th:only-of-type {\n",
       "        vertical-align: middle;\n",
       "    }\n",
       "\n",
       "    .dataframe tbody tr th {\n",
       "        vertical-align: top;\n",
       "    }\n",
       "\n",
       "    .dataframe thead th {\n",
       "        text-align: right;\n",
       "    }\n",
       "</style>\n",
       "<table border=\"1\" class=\"dataframe\">\n",
       "  <thead>\n",
       "    <tr style=\"text-align: right;\">\n",
       "      <th></th>\n",
       "      <th>imdb_id</th>\n",
       "      <th>title</th>\n",
       "      <th>plot_synopsis</th>\n",
       "      <th>tags</th>\n",
       "      <th>split</th>\n",
       "      <th>synopsis_source</th>\n",
       "      <th>genre_updated</th>\n",
       "      <th>genre_new</th>\n",
       "      <th>clean_plot</th>\n",
       "    </tr>\n",
       "  </thead>\n",
       "  <tbody>\n",
       "    <tr>\n",
       "      <th>0</th>\n",
       "      <td>tt0057603</td>\n",
       "      <td>I tre volti della paura</td>\n",
       "      <td>Note: this synopsis is for the orginal Italian...</td>\n",
       "      <td>cult, horror, gothic, murder, atmospheric</td>\n",
       "      <td>train</td>\n",
       "      <td>imdb</td>\n",
       "      <td>murder</td>\n",
       "      <td>['murder']</td>\n",
       "      <td>note this synopsis is for the orginal italian ...</td>\n",
       "    </tr>\n",
       "    <tr>\n",
       "      <th>1</th>\n",
       "      <td>tt1733125</td>\n",
       "      <td>Dungeons &amp; Dragons: The Book of Vile Darkness</td>\n",
       "      <td>Two thousand years ago, Nhagruul the Foul, a s...</td>\n",
       "      <td>violence</td>\n",
       "      <td>train</td>\n",
       "      <td>imdb</td>\n",
       "      <td>murder</td>\n",
       "      <td>['murder']</td>\n",
       "      <td>two thousand years ago nhagruul the foul a sor...</td>\n",
       "    </tr>\n",
       "    <tr>\n",
       "      <th>2</th>\n",
       "      <td>tt0033045</td>\n",
       "      <td>The Shop Around the Corner</td>\n",
       "      <td>Matuschek's, a gift store in Budapest, is the ...</td>\n",
       "      <td>romantic</td>\n",
       "      <td>test</td>\n",
       "      <td>imdb</td>\n",
       "      <td>drama</td>\n",
       "      <td>['drama']</td>\n",
       "      <td>matuscheks a gift store in budapest is the wor...</td>\n",
       "    </tr>\n",
       "    <tr>\n",
       "      <th>3</th>\n",
       "      <td>tt0113862</td>\n",
       "      <td>Mr. Holland's Opus</td>\n",
       "      <td>Glenn Holland, not a morning person by anyone'...</td>\n",
       "      <td>inspiring, romantic, stupid, feel-good</td>\n",
       "      <td>train</td>\n",
       "      <td>imdb</td>\n",
       "      <td>drama</td>\n",
       "      <td>['drama']</td>\n",
       "      <td>glenn holland not a morning person by anyones ...</td>\n",
       "    </tr>\n",
       "    <tr>\n",
       "      <th>4</th>\n",
       "      <td>tt0086250</td>\n",
       "      <td>Scarface</td>\n",
       "      <td>In May 1980, a Cuban man named Tony Montana (A...</td>\n",
       "      <td>cruelty, murder, dramatic, cult, violence, atm...</td>\n",
       "      <td>val</td>\n",
       "      <td>imdb</td>\n",
       "      <td>murder</td>\n",
       "      <td>['murder']</td>\n",
       "      <td>in may a cuban man named tony montana al pacin...</td>\n",
       "    </tr>\n",
       "  </tbody>\n",
       "</table>\n",
       "</div>"
      ],
      "text/plain": [
       "     imdb_id                                          title  \\\n",
       "0  tt0057603                        I tre volti della paura   \n",
       "1  tt1733125  Dungeons & Dragons: The Book of Vile Darkness   \n",
       "2  tt0033045                     The Shop Around the Corner   \n",
       "3  tt0113862                             Mr. Holland's Opus   \n",
       "4  tt0086250                                       Scarface   \n",
       "\n",
       "                                       plot_synopsis  \\\n",
       "0  Note: this synopsis is for the orginal Italian...   \n",
       "1  Two thousand years ago, Nhagruul the Foul, a s...   \n",
       "2  Matuschek's, a gift store in Budapest, is the ...   \n",
       "3  Glenn Holland, not a morning person by anyone'...   \n",
       "4  In May 1980, a Cuban man named Tony Montana (A...   \n",
       "\n",
       "                                                tags  split synopsis_source  \\\n",
       "0          cult, horror, gothic, murder, atmospheric  train            imdb   \n",
       "1                                           violence  train            imdb   \n",
       "2                                           romantic   test            imdb   \n",
       "3             inspiring, romantic, stupid, feel-good  train            imdb   \n",
       "4  cruelty, murder, dramatic, cult, violence, atm...    val            imdb   \n",
       "\n",
       "  genre_updated   genre_new                                         clean_plot  \n",
       "0        murder  ['murder']  note this synopsis is for the orginal italian ...  \n",
       "1        murder  ['murder']  two thousand years ago nhagruul the foul a sor...  \n",
       "2         drama   ['drama']  matuscheks a gift store in budapest is the wor...  \n",
       "3         drama   ['drama']  glenn holland not a morning person by anyones ...  \n",
       "4        murder  ['murder']  in may a cuban man named tony montana al pacin...  "
      ]
     },
     "execution_count": 9,
     "metadata": {},
     "output_type": "execute_result"
    }
   ],
   "source": [
    "movies = pd.read_csv('movie_new_clean.csv')\n",
    "movies.head()"
   ]
  },
  {
   "cell_type": "code",
   "execution_count": 19,
   "metadata": {},
   "outputs": [
    {
     "name": "stdout",
     "output_type": "stream",
     "text": [
      "Predicted genre:  murder\n",
      "Predicted genre:  murder\n",
      "Predicted genre:  drama\n",
      "Predicted genre:  drama\n",
      "Predicted genre:  murder\n",
      "Predicted genre:  drama\n",
      "Predicted genre:  murder\n",
      "Predicted genre:  drama\n",
      "Predicted genre:  murder\n",
      "Predicted genre:  \n"
     ]
    }
   ],
   "source": [
    "for i in range(10):\n",
    "    movie = movies[\"clean_plot\"][i]\n",
    "# movie\n",
    "    print(\"Predicted genre: \", infer_tags_prob(movie))"
   ]
  },
  {
   "cell_type": "code",
   "execution_count": null,
   "metadata": {},
   "outputs": [],
   "source": []
  }
 ],
 "metadata": {
  "kernelspec": {
   "display_name": "Python 3",
   "language": "python",
   "name": "python3"
  },
  "language_info": {
   "codemirror_mode": {
    "name": "ipython",
    "version": 3
   },
   "file_extension": ".py",
   "mimetype": "text/x-python",
   "name": "python",
   "nbconvert_exporter": "python",
   "pygments_lexer": "ipython3",
   "version": "3.6.7"
  }
 },
 "nbformat": 4,
 "nbformat_minor": 2
}
