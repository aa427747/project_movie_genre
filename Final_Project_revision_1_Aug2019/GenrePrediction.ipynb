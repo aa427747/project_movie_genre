{
 "cells": [
  {
   "cell_type": "code",
   "execution_count": 1,
   "metadata": {},
   "outputs": [],
   "source": [
    "import pandas as pd\n",
    "import numpy as np\n",
    "import json\n",
    "import nltk\n",
    "import re\n",
    "import csv\n",
    "import matplotlib.pyplot as plt \n",
    "import seaborn as sns\n",
    "from tqdm import tqdm\n",
    "from sklearn.feature_extraction.text import TfidfVectorizer\n",
    "from sklearn.model_selection import train_test_split\n",
    "\n",
    "%matplotlib inline\n",
    "pd.set_option('display.max_colwidth', 300)"
   ]
  },
  {
   "cell_type": "code",
   "execution_count": 2,
   "metadata": {},
   "outputs": [
    {
     "data": {
      "text/html": [
       "<div>\n",
       "<style scoped>\n",
       "    .dataframe tbody tr th:only-of-type {\n",
       "        vertical-align: middle;\n",
       "    }\n",
       "\n",
       "    .dataframe tbody tr th {\n",
       "        vertical-align: top;\n",
       "    }\n",
       "\n",
       "    .dataframe thead th {\n",
       "        text-align: right;\n",
       "    }\n",
       "</style>\n",
       "<table border=\"1\" class=\"dataframe\">\n",
       "  <thead>\n",
       "    <tr style=\"text-align: right;\">\n",
       "      <th></th>\n",
       "      <th>imdb_id</th>\n",
       "      <th>title</th>\n",
       "      <th>plot_synopsis</th>\n",
       "      <th>tags</th>\n",
       "      <th>split</th>\n",
       "      <th>synopsis_source</th>\n",
       "      <th>genre_updated</th>\n",
       "    </tr>\n",
       "  </thead>\n",
       "  <tbody>\n",
       "    <tr>\n",
       "      <th>0</th>\n",
       "      <td>tt0057603</td>\n",
       "      <td>I tre volti della paura</td>\n",
       "      <td>Note: this synopsis is for the orginal Italian release with the segments in this certain order.Boris Karloff introduces three horror tales of the macabre and the supernatural known as the 'Three Faces of Fear'.THE TELEPHONERosy (Michele Mercier) is an attractive, high-priced Parisian call-girl w...</td>\n",
       "      <td>cult, horror, gothic, murder, atmospheric</td>\n",
       "      <td>train</td>\n",
       "      <td>imdb</td>\n",
       "      <td>murder</td>\n",
       "    </tr>\n",
       "    <tr>\n",
       "      <th>1</th>\n",
       "      <td>tt1733125</td>\n",
       "      <td>Dungeons &amp; Dragons: The Book of Vile Darkness</td>\n",
       "      <td>Two thousand years ago, Nhagruul the Foul, a sorcerer who reveled in corrupting the innocent and the spread of despair, neared the end of his mortal days and was dismayed. Consumed by hatred for the living, Nhagruul sold his soul to the demon Lords of the abyss so that his malign spirit would su...</td>\n",
       "      <td>violence</td>\n",
       "      <td>train</td>\n",
       "      <td>imdb</td>\n",
       "      <td>murder</td>\n",
       "    </tr>\n",
       "    <tr>\n",
       "      <th>2</th>\n",
       "      <td>tt0033045</td>\n",
       "      <td>The Shop Around the Corner</td>\n",
       "      <td>Matuschek's, a gift store in Budapest, is the workplace of Alfred Kralik (James Stewart) and the newly hi Ed\\nKlara Novak (Margaret Sullavan). At work they constantly irritate each other, but this daily aggravation is tempered by the fact that each has a secret pen pal with which they trade long...</td>\n",
       "      <td>romantic</td>\n",
       "      <td>test</td>\n",
       "      <td>imdb</td>\n",
       "      <td>drama</td>\n",
       "    </tr>\n",
       "    <tr>\n",
       "      <th>3</th>\n",
       "      <td>tt0113862</td>\n",
       "      <td>Mr. Holland's Opus</td>\n",
       "      <td>Glenn Holland, not a morning person by anyone's standards, is woken up by his wife Iris early one bright September morning in 1964. Glenn has taken a job as a music teacher at the newly renamed John F. Kennedy High School. He intends his job to be a sabbatical from being a touring musician, duri...</td>\n",
       "      <td>inspiring, romantic, stupid, feel-good</td>\n",
       "      <td>train</td>\n",
       "      <td>imdb</td>\n",
       "      <td>drama</td>\n",
       "    </tr>\n",
       "    <tr>\n",
       "      <th>4</th>\n",
       "      <td>tt0086250</td>\n",
       "      <td>Scarface</td>\n",
       "      <td>In May 1980, a Cuban man named Tony Montana (Al Pacino) claims asylum, in Florida, USA, and is in search of the \"American Dream\" after departing Cuba in the Mariel boatlift of 1980. When questioned by three tough-talking INS officials, they notice a tattoo on Tony's left arm of a black heart wit...</td>\n",
       "      <td>cruelty, murder, dramatic, cult, violence, atmospheric, action, romantic, revenge, sadist</td>\n",
       "      <td>val</td>\n",
       "      <td>imdb</td>\n",
       "      <td>murder</td>\n",
       "    </tr>\n",
       "  </tbody>\n",
       "</table>\n",
       "</div>"
      ],
      "text/plain": [
       "     imdb_id                                          title  \\\n",
       "0  tt0057603                        I tre volti della paura   \n",
       "1  tt1733125  Dungeons & Dragons: The Book of Vile Darkness   \n",
       "2  tt0033045                     The Shop Around the Corner   \n",
       "3  tt0113862                             Mr. Holland's Opus   \n",
       "4  tt0086250                                       Scarface   \n",
       "\n",
       "                                                                                                                                                                                                                                                                                                 plot_synopsis  \\\n",
       "0  Note: this synopsis is for the orginal Italian release with the segments in this certain order.Boris Karloff introduces three horror tales of the macabre and the supernatural known as the 'Three Faces of Fear'.THE TELEPHONERosy (Michele Mercier) is an attractive, high-priced Parisian call-girl w...   \n",
       "1  Two thousand years ago, Nhagruul the Foul, a sorcerer who reveled in corrupting the innocent and the spread of despair, neared the end of his mortal days and was dismayed. Consumed by hatred for the living, Nhagruul sold his soul to the demon Lords of the abyss so that his malign spirit would su...   \n",
       "2  Matuschek's, a gift store in Budapest, is the workplace of Alfred Kralik (James Stewart) and the newly hi Ed\\nKlara Novak (Margaret Sullavan). At work they constantly irritate each other, but this daily aggravation is tempered by the fact that each has a secret pen pal with which they trade long...   \n",
       "3  Glenn Holland, not a morning person by anyone's standards, is woken up by his wife Iris early one bright September morning in 1964. Glenn has taken a job as a music teacher at the newly renamed John F. Kennedy High School. He intends his job to be a sabbatical from being a touring musician, duri...   \n",
       "4  In May 1980, a Cuban man named Tony Montana (Al Pacino) claims asylum, in Florida, USA, and is in search of the \"American Dream\" after departing Cuba in the Mariel boatlift of 1980. When questioned by three tough-talking INS officials, they notice a tattoo on Tony's left arm of a black heart wit...   \n",
       "\n",
       "                                                                                        tags  \\\n",
       "0                                                  cult, horror, gothic, murder, atmospheric   \n",
       "1                                                                                   violence   \n",
       "2                                                                                   romantic   \n",
       "3                                                     inspiring, romantic, stupid, feel-good   \n",
       "4  cruelty, murder, dramatic, cult, violence, atmospheric, action, romantic, revenge, sadist   \n",
       "\n",
       "   split synopsis_source genre_updated  \n",
       "0  train            imdb        murder  \n",
       "1  train            imdb        murder  \n",
       "2   test            imdb         drama  \n",
       "3  train            imdb         drama  \n",
       "4    val            imdb        murder  "
      ]
     },
     "execution_count": 2,
     "metadata": {},
     "output_type": "execute_result"
    }
   ],
   "source": [
    "# meta = pd.read_csv(\"movie.metadata.tsv\", sep = '\\t', header = None)\n",
    "# meta.head()\n",
    "\n",
    "# # load one file\n",
    "# filename = 'movieplots.csv'\n",
    "# # open the file as read only\n",
    "# file = open(filename, 'r')\n",
    "# # read all text\n",
    "# text = file.read()\n",
    "# # close the file\n",
    "# file.close()\n",
    "movies = pd.read_csv('movieplots_updated_genre_1.csv')\n",
    "movies.head()\n",
    "\n",
    "# movies = movies['imdb_id'][2284]\n",
    "# movies\n",
    "\n",
    "# pd.read_table('movieplots.csv', encoding = 'utf-8')"
   ]
  },
  {
   "cell_type": "code",
   "execution_count": 3,
   "metadata": {},
   "outputs": [
    {
     "data": {
      "text/plain": [
       "0             [murder]\n",
       "1             [murder]\n",
       "2              [drama]\n",
       "3              [drama]\n",
       "4             [murder]\n",
       "5              [drama]\n",
       "6              [drama]\n",
       "7             [sci-fi]\n",
       "8             [murder]\n",
       "9             [action]\n",
       "10            [murder]\n",
       "11            [murder]\n",
       "12             [drama]\n",
       "13            [murder]\n",
       "14             [drama]\n",
       "15            [action]\n",
       "16             [drama]\n",
       "17             [drama]\n",
       "18             [drama]\n",
       "19            [murder]\n",
       "20             [drama]\n",
       "21             [drama]\n",
       "22             [drama]\n",
       "23            [comedy]\n",
       "24             [drama]\n",
       "25            [sci-fi]\n",
       "26       [documentary]\n",
       "27             [drama]\n",
       "28            [murder]\n",
       "29            [murder]\n",
       "             ...      \n",
       "14720         [murder]\n",
       "14721         [action]\n",
       "14722    [documentary]\n",
       "14723         [murder]\n",
       "14724         [comedy]\n",
       "14725          [drama]\n",
       "14726         [murder]\n",
       "14727         [action]\n",
       "14728          [drama]\n",
       "14729         [action]\n",
       "14730          [drama]\n",
       "14731         [comedy]\n",
       "14732          [drama]\n",
       "14733          [drama]\n",
       "14734         [murder]\n",
       "14735         [murder]\n",
       "14736          [drama]\n",
       "14737         [action]\n",
       "14738          [drama]\n",
       "14739         [murder]\n",
       "14740         [action]\n",
       "14741          [drama]\n",
       "14742         [comedy]\n",
       "14743          [drama]\n",
       "14744         [action]\n",
       "14745         [comedy]\n",
       "14746         [action]\n",
       "14747    [documentary]\n",
       "14748         [murder]\n",
       "14749      [religious]\n",
       "Name: genre_updated, Length: 14750, dtype: object"
      ]
     },
     "execution_count": 3,
     "metadata": {},
     "output_type": "execute_result"
    }
   ],
   "source": [
    "# split_genre = movies[\"tags\"].apply(lambda x:x.split(\",\"))\n",
    "split_genre = movies[\"genre_updated\"].apply(lambda x:x.split(\",\"))\n",
    "split_genre"
   ]
  },
  {
   "cell_type": "code",
   "execution_count": 4,
   "metadata": {},
   "outputs": [
    {
     "data": {
      "text/plain": [
       "array([list(['action']), list(['adult']), list(['comedy']),\n",
       "       list(['documentary']), list(['drama']), list(['horror']),\n",
       "       list(['murder']), list(['religious']), list(['sci-fi']),\n",
       "       list(['western'])], dtype=object)"
      ]
     },
     "execution_count": 4,
     "metadata": {},
     "output_type": "execute_result"
    }
   ],
   "source": [
    "np.unique(split_genre)"
   ]
  },
  {
   "cell_type": "code",
   "execution_count": 5,
   "metadata": {},
   "outputs": [
    {
     "data": {
      "text/html": [
       "<div>\n",
       "<style scoped>\n",
       "    .dataframe tbody tr th:only-of-type {\n",
       "        vertical-align: middle;\n",
       "    }\n",
       "\n",
       "    .dataframe tbody tr th {\n",
       "        vertical-align: top;\n",
       "    }\n",
       "\n",
       "    .dataframe thead th {\n",
       "        text-align: right;\n",
       "    }\n",
       "</style>\n",
       "<table border=\"1\" class=\"dataframe\">\n",
       "  <thead>\n",
       "    <tr style=\"text-align: right;\">\n",
       "      <th></th>\n",
       "      <th>imdb_id</th>\n",
       "      <th>title</th>\n",
       "      <th>plot_synopsis</th>\n",
       "      <th>tags</th>\n",
       "      <th>split</th>\n",
       "      <th>synopsis_source</th>\n",
       "      <th>genre_updated</th>\n",
       "      <th>genre_new</th>\n",
       "    </tr>\n",
       "  </thead>\n",
       "  <tbody>\n",
       "    <tr>\n",
       "      <th>0</th>\n",
       "      <td>tt0057603</td>\n",
       "      <td>I tre volti della paura</td>\n",
       "      <td>Note: this synopsis is for the orginal Italian release with the segments in this certain order.Boris Karloff introduces three horror tales of the macabre and the supernatural known as the 'Three Faces of Fear'.THE TELEPHONERosy (Michele Mercier) is an attractive, high-priced Parisian call-girl w...</td>\n",
       "      <td>cult, horror, gothic, murder, atmospheric</td>\n",
       "      <td>train</td>\n",
       "      <td>imdb</td>\n",
       "      <td>murder</td>\n",
       "      <td>[murder]</td>\n",
       "    </tr>\n",
       "    <tr>\n",
       "      <th>1</th>\n",
       "      <td>tt1733125</td>\n",
       "      <td>Dungeons &amp; Dragons: The Book of Vile Darkness</td>\n",
       "      <td>Two thousand years ago, Nhagruul the Foul, a sorcerer who reveled in corrupting the innocent and the spread of despair, neared the end of his mortal days and was dismayed. Consumed by hatred for the living, Nhagruul sold his soul to the demon Lords of the abyss so that his malign spirit would su...</td>\n",
       "      <td>violence</td>\n",
       "      <td>train</td>\n",
       "      <td>imdb</td>\n",
       "      <td>murder</td>\n",
       "      <td>[murder]</td>\n",
       "    </tr>\n",
       "    <tr>\n",
       "      <th>2</th>\n",
       "      <td>tt0033045</td>\n",
       "      <td>The Shop Around the Corner</td>\n",
       "      <td>Matuschek's, a gift store in Budapest, is the workplace of Alfred Kralik (James Stewart) and the newly hi Ed\\nKlara Novak (Margaret Sullavan). At work they constantly irritate each other, but this daily aggravation is tempered by the fact that each has a secret pen pal with which they trade long...</td>\n",
       "      <td>romantic</td>\n",
       "      <td>test</td>\n",
       "      <td>imdb</td>\n",
       "      <td>drama</td>\n",
       "      <td>[drama]</td>\n",
       "    </tr>\n",
       "    <tr>\n",
       "      <th>3</th>\n",
       "      <td>tt0113862</td>\n",
       "      <td>Mr. Holland's Opus</td>\n",
       "      <td>Glenn Holland, not a morning person by anyone's standards, is woken up by his wife Iris early one bright September morning in 1964. Glenn has taken a job as a music teacher at the newly renamed John F. Kennedy High School. He intends his job to be a sabbatical from being a touring musician, duri...</td>\n",
       "      <td>inspiring, romantic, stupid, feel-good</td>\n",
       "      <td>train</td>\n",
       "      <td>imdb</td>\n",
       "      <td>drama</td>\n",
       "      <td>[drama]</td>\n",
       "    </tr>\n",
       "    <tr>\n",
       "      <th>4</th>\n",
       "      <td>tt0086250</td>\n",
       "      <td>Scarface</td>\n",
       "      <td>In May 1980, a Cuban man named Tony Montana (Al Pacino) claims asylum, in Florida, USA, and is in search of the \"American Dream\" after departing Cuba in the Mariel boatlift of 1980. When questioned by three tough-talking INS officials, they notice a tattoo on Tony's left arm of a black heart wit...</td>\n",
       "      <td>cruelty, murder, dramatic, cult, violence, atmospheric, action, romantic, revenge, sadist</td>\n",
       "      <td>val</td>\n",
       "      <td>imdb</td>\n",
       "      <td>murder</td>\n",
       "      <td>[murder]</td>\n",
       "    </tr>\n",
       "  </tbody>\n",
       "</table>\n",
       "</div>"
      ],
      "text/plain": [
       "     imdb_id                                          title  \\\n",
       "0  tt0057603                        I tre volti della paura   \n",
       "1  tt1733125  Dungeons & Dragons: The Book of Vile Darkness   \n",
       "2  tt0033045                     The Shop Around the Corner   \n",
       "3  tt0113862                             Mr. Holland's Opus   \n",
       "4  tt0086250                                       Scarface   \n",
       "\n",
       "                                                                                                                                                                                                                                                                                                 plot_synopsis  \\\n",
       "0  Note: this synopsis is for the orginal Italian release with the segments in this certain order.Boris Karloff introduces three horror tales of the macabre and the supernatural known as the 'Three Faces of Fear'.THE TELEPHONERosy (Michele Mercier) is an attractive, high-priced Parisian call-girl w...   \n",
       "1  Two thousand years ago, Nhagruul the Foul, a sorcerer who reveled in corrupting the innocent and the spread of despair, neared the end of his mortal days and was dismayed. Consumed by hatred for the living, Nhagruul sold his soul to the demon Lords of the abyss so that his malign spirit would su...   \n",
       "2  Matuschek's, a gift store in Budapest, is the workplace of Alfred Kralik (James Stewart) and the newly hi Ed\\nKlara Novak (Margaret Sullavan). At work they constantly irritate each other, but this daily aggravation is tempered by the fact that each has a secret pen pal with which they trade long...   \n",
       "3  Glenn Holland, not a morning person by anyone's standards, is woken up by his wife Iris early one bright September morning in 1964. Glenn has taken a job as a music teacher at the newly renamed John F. Kennedy High School. He intends his job to be a sabbatical from being a touring musician, duri...   \n",
       "4  In May 1980, a Cuban man named Tony Montana (Al Pacino) claims asylum, in Florida, USA, and is in search of the \"American Dream\" after departing Cuba in the Mariel boatlift of 1980. When questioned by three tough-talking INS officials, they notice a tattoo on Tony's left arm of a black heart wit...   \n",
       "\n",
       "                                                                                        tags  \\\n",
       "0                                                  cult, horror, gothic, murder, atmospheric   \n",
       "1                                                                                   violence   \n",
       "2                                                                                   romantic   \n",
       "3                                                     inspiring, romantic, stupid, feel-good   \n",
       "4  cruelty, murder, dramatic, cult, violence, atmospheric, action, romantic, revenge, sadist   \n",
       "\n",
       "   split synopsis_source genre_updated genre_new  \n",
       "0  train            imdb        murder  [murder]  \n",
       "1  train            imdb        murder  [murder]  \n",
       "2   test            imdb         drama   [drama]  \n",
       "3  train            imdb         drama   [drama]  \n",
       "4    val            imdb        murder  [murder]  "
      ]
     },
     "execution_count": 5,
     "metadata": {},
     "output_type": "execute_result"
    }
   ],
   "source": [
    "# # an empty list\n",
    "# genres = [] \n",
    "\n",
    "# # extract genres\n",
    "# for i in movies['tags']: \n",
    "#   genres.append(list(json.loads(i).values())) \n",
    "\n",
    "# add to 'movies' dataframe  \n",
    "movies['genre_new'] = split_genre\n",
    "\n",
    "movies.head()"
   ]
  },
  {
   "cell_type": "code",
   "execution_count": 6,
   "metadata": {},
   "outputs": [],
   "source": [
    "# remove samples with 0 genre tags\n",
    "movies_new = movies[~(movies['genre_new'].str.len() == 0)]\n"
   ]
  },
  {
   "cell_type": "code",
   "execution_count": 7,
   "metadata": {},
   "outputs": [
    {
     "data": {
      "text/plain": [
       "((14750, 8), (14750, 8))"
      ]
     },
     "execution_count": 7,
     "metadata": {},
     "output_type": "execute_result"
    }
   ],
   "source": [
    "movies_new.shape, movies.shape"
   ]
  },
  {
   "cell_type": "code",
   "execution_count": 8,
   "metadata": {
    "scrolled": false
   },
   "outputs": [
    {
     "data": {
      "text/html": [
       "<div>\n",
       "<style scoped>\n",
       "    .dataframe tbody tr th:only-of-type {\n",
       "        vertical-align: middle;\n",
       "    }\n",
       "\n",
       "    .dataframe tbody tr th {\n",
       "        vertical-align: top;\n",
       "    }\n",
       "\n",
       "    .dataframe thead th {\n",
       "        text-align: right;\n",
       "    }\n",
       "</style>\n",
       "<table border=\"1\" class=\"dataframe\">\n",
       "  <thead>\n",
       "    <tr style=\"text-align: right;\">\n",
       "      <th></th>\n",
       "      <th>imdb_id</th>\n",
       "      <th>title</th>\n",
       "      <th>plot_synopsis</th>\n",
       "      <th>tags</th>\n",
       "      <th>split</th>\n",
       "      <th>synopsis_source</th>\n",
       "      <th>genre_updated</th>\n",
       "      <th>genre_new</th>\n",
       "    </tr>\n",
       "  </thead>\n",
       "  <tbody>\n",
       "    <tr>\n",
       "      <th>0</th>\n",
       "      <td>tt0057603</td>\n",
       "      <td>I tre volti della paura</td>\n",
       "      <td>Note: this synopsis is for the orginal Italian release with the segments in this certain order.Boris Karloff introduces three horror tales of the macabre and the supernatural known as the 'Three Faces of Fear'.THE TELEPHONERosy (Michele Mercier) is an attractive, high-priced Parisian call-girl w...</td>\n",
       "      <td>cult, horror, gothic, murder, atmospheric</td>\n",
       "      <td>train</td>\n",
       "      <td>imdb</td>\n",
       "      <td>murder</td>\n",
       "      <td>[murder]</td>\n",
       "    </tr>\n",
       "    <tr>\n",
       "      <th>1</th>\n",
       "      <td>tt1733125</td>\n",
       "      <td>Dungeons &amp; Dragons: The Book of Vile Darkness</td>\n",
       "      <td>Two thousand years ago, Nhagruul the Foul, a sorcerer who reveled in corrupting the innocent and the spread of despair, neared the end of his mortal days and was dismayed. Consumed by hatred for the living, Nhagruul sold his soul to the demon Lords of the abyss so that his malign spirit would su...</td>\n",
       "      <td>violence</td>\n",
       "      <td>train</td>\n",
       "      <td>imdb</td>\n",
       "      <td>murder</td>\n",
       "      <td>[murder]</td>\n",
       "    </tr>\n",
       "    <tr>\n",
       "      <th>2</th>\n",
       "      <td>tt0033045</td>\n",
       "      <td>The Shop Around the Corner</td>\n",
       "      <td>Matuschek's, a gift store in Budapest, is the workplace of Alfred Kralik (James Stewart) and the newly hi Ed\\nKlara Novak (Margaret Sullavan). At work they constantly irritate each other, but this daily aggravation is tempered by the fact that each has a secret pen pal with which they trade long...</td>\n",
       "      <td>romantic</td>\n",
       "      <td>test</td>\n",
       "      <td>imdb</td>\n",
       "      <td>drama</td>\n",
       "      <td>[drama]</td>\n",
       "    </tr>\n",
       "    <tr>\n",
       "      <th>3</th>\n",
       "      <td>tt0113862</td>\n",
       "      <td>Mr. Holland's Opus</td>\n",
       "      <td>Glenn Holland, not a morning person by anyone's standards, is woken up by his wife Iris early one bright September morning in 1964. Glenn has taken a job as a music teacher at the newly renamed John F. Kennedy High School. He intends his job to be a sabbatical from being a touring musician, duri...</td>\n",
       "      <td>inspiring, romantic, stupid, feel-good</td>\n",
       "      <td>train</td>\n",
       "      <td>imdb</td>\n",
       "      <td>drama</td>\n",
       "      <td>[drama]</td>\n",
       "    </tr>\n",
       "    <tr>\n",
       "      <th>4</th>\n",
       "      <td>tt0086250</td>\n",
       "      <td>Scarface</td>\n",
       "      <td>In May 1980, a Cuban man named Tony Montana (Al Pacino) claims asylum, in Florida, USA, and is in search of the \"American Dream\" after departing Cuba in the Mariel boatlift of 1980. When questioned by three tough-talking INS officials, they notice a tattoo on Tony's left arm of a black heart wit...</td>\n",
       "      <td>cruelty, murder, dramatic, cult, violence, atmospheric, action, romantic, revenge, sadist</td>\n",
       "      <td>val</td>\n",
       "      <td>imdb</td>\n",
       "      <td>murder</td>\n",
       "      <td>[murder]</td>\n",
       "    </tr>\n",
       "  </tbody>\n",
       "</table>\n",
       "</div>"
      ],
      "text/plain": [
       "     imdb_id                                          title  \\\n",
       "0  tt0057603                        I tre volti della paura   \n",
       "1  tt1733125  Dungeons & Dragons: The Book of Vile Darkness   \n",
       "2  tt0033045                     The Shop Around the Corner   \n",
       "3  tt0113862                             Mr. Holland's Opus   \n",
       "4  tt0086250                                       Scarface   \n",
       "\n",
       "                                                                                                                                                                                                                                                                                                 plot_synopsis  \\\n",
       "0  Note: this synopsis is for the orginal Italian release with the segments in this certain order.Boris Karloff introduces three horror tales of the macabre and the supernatural known as the 'Three Faces of Fear'.THE TELEPHONERosy (Michele Mercier) is an attractive, high-priced Parisian call-girl w...   \n",
       "1  Two thousand years ago, Nhagruul the Foul, a sorcerer who reveled in corrupting the innocent and the spread of despair, neared the end of his mortal days and was dismayed. Consumed by hatred for the living, Nhagruul sold his soul to the demon Lords of the abyss so that his malign spirit would su...   \n",
       "2  Matuschek's, a gift store in Budapest, is the workplace of Alfred Kralik (James Stewart) and the newly hi Ed\\nKlara Novak (Margaret Sullavan). At work they constantly irritate each other, but this daily aggravation is tempered by the fact that each has a secret pen pal with which they trade long...   \n",
       "3  Glenn Holland, not a morning person by anyone's standards, is woken up by his wife Iris early one bright September morning in 1964. Glenn has taken a job as a music teacher at the newly renamed John F. Kennedy High School. He intends his job to be a sabbatical from being a touring musician, duri...   \n",
       "4  In May 1980, a Cuban man named Tony Montana (Al Pacino) claims asylum, in Florida, USA, and is in search of the \"American Dream\" after departing Cuba in the Mariel boatlift of 1980. When questioned by three tough-talking INS officials, they notice a tattoo on Tony's left arm of a black heart wit...   \n",
       "\n",
       "                                                                                        tags  \\\n",
       "0                                                  cult, horror, gothic, murder, atmospheric   \n",
       "1                                                                                   violence   \n",
       "2                                                                                   romantic   \n",
       "3                                                     inspiring, romantic, stupid, feel-good   \n",
       "4  cruelty, murder, dramatic, cult, violence, atmospheric, action, romantic, revenge, sadist   \n",
       "\n",
       "   split synopsis_source genre_updated genre_new  \n",
       "0  train            imdb        murder  [murder]  \n",
       "1  train            imdb        murder  [murder]  \n",
       "2   test            imdb         drama   [drama]  \n",
       "3  train            imdb         drama   [drama]  \n",
       "4    val            imdb        murder  [murder]  "
      ]
     },
     "execution_count": 8,
     "metadata": {},
     "output_type": "execute_result"
    }
   ],
   "source": [
    "movies.head()\n",
    "# movies.to_csv('movieplots_1_clean.csv', index=False)  ### Write to fresh new file"
   ]
  },
  {
   "cell_type": "code",
   "execution_count": 9,
   "metadata": {},
   "outputs": [
    {
     "data": {
      "text/plain": [
       "10"
      ]
     },
     "execution_count": 9,
     "metadata": {},
     "output_type": "execute_result"
    }
   ],
   "source": [
    "# get all genre tags in a list\n",
    "all_genres = sum(split_genre,[])\n",
    "len(set(all_genres))"
   ]
  },
  {
   "cell_type": "code",
   "execution_count": 10,
   "metadata": {},
   "outputs": [
    {
     "data": {
      "text/html": [
       "<div>\n",
       "<style scoped>\n",
       "    .dataframe tbody tr th:only-of-type {\n",
       "        vertical-align: middle;\n",
       "    }\n",
       "\n",
       "    .dataframe tbody tr th {\n",
       "        vertical-align: top;\n",
       "    }\n",
       "\n",
       "    .dataframe thead th {\n",
       "        text-align: right;\n",
       "    }\n",
       "</style>\n",
       "<table border=\"1\" class=\"dataframe\">\n",
       "  <thead>\n",
       "    <tr style=\"text-align: right;\">\n",
       "      <th></th>\n",
       "      <th>Genre</th>\n",
       "      <th>Count</th>\n",
       "    </tr>\n",
       "  </thead>\n",
       "  <tbody>\n",
       "    <tr>\n",
       "      <th>0</th>\n",
       "      <td>murder</td>\n",
       "      <td>4961</td>\n",
       "    </tr>\n",
       "    <tr>\n",
       "      <th>1</th>\n",
       "      <td>drama</td>\n",
       "      <td>4663</td>\n",
       "    </tr>\n",
       "    <tr>\n",
       "      <th>2</th>\n",
       "      <td>sci-fi</td>\n",
       "      <td>598</td>\n",
       "    </tr>\n",
       "    <tr>\n",
       "      <th>3</th>\n",
       "      <td>action</td>\n",
       "      <td>1882</td>\n",
       "    </tr>\n",
       "    <tr>\n",
       "      <th>4</th>\n",
       "      <td>comedy</td>\n",
       "      <td>1778</td>\n",
       "    </tr>\n",
       "  </tbody>\n",
       "</table>\n",
       "</div>"
      ],
      "text/plain": [
       "    Genre  Count\n",
       "0  murder   4961\n",
       "1   drama   4663\n",
       "2  sci-fi    598\n",
       "3  action   1882\n",
       "4  comedy   1778"
      ]
     },
     "execution_count": 10,
     "metadata": {},
     "output_type": "execute_result"
    }
   ],
   "source": [
    "all_genres = nltk.FreqDist(all_genres) \n",
    "\n",
    "# create dataframe\n",
    "all_genres_df = pd.DataFrame({'Genre': list(all_genres.keys()), \n",
    "                              'Count': list(all_genres.values())})\n",
    "all_genres_df.head()\n",
    "# all_genres_df.to_csv('movieplots_all_genres_clean.csv', index=False) "
   ]
  },
  {
   "cell_type": "code",
   "execution_count": 11,
   "metadata": {
    "scrolled": true
   },
   "outputs": [
    {
     "data": {
      "image/png": "[encoded data removed]",
      "text/plain": [
       "<Figure size 864x1080 with 1 Axes>"
      ]
     },
     "metadata": {
      "needs_background": "light"
     },
     "output_type": "display_data"
    }
   ],
   "source": [
    "g = all_genres_df.nlargest(columns=\"Count\", n = 50) \n",
    "plt.figure(figsize=(12,15)) \n",
    "ax = sns.barplot(data=g, x= \"Count\", y = \"Genre\") \n",
    "ax.set(ylabel = 'Count') \n",
    "plt.show()"
   ]
  },
  {
   "cell_type": "code",
   "execution_count": 12,
   "metadata": {},
   "outputs": [],
   "source": [
    "# function for text cleaning \n",
    "def clean_text(text):\n",
    "    # remove backslash-apostrophe \n",
    "    text = re.sub(\"\\'\", \"\", text) \n",
    "    # remove everything except alphabets \n",
    "    text = re.sub(\"[^a-zA-Z]\",\" \",text) \n",
    "    # remove whitespaces \n",
    "    text = ' '.join(text.split()) \n",
    "    # convert text to lowercase \n",
    "    text = text.lower() \n",
    "    \n",
    "    return text"
   ]
  },
  {
   "cell_type": "code",
   "execution_count": 13,
   "metadata": {},
   "outputs": [],
   "source": [
    "movies_new['clean_plot'] = movies_new['plot_synopsis'].apply(lambda x: clean_text(x))\n",
    "movies_new.head()\n",
    "movies_new.to_csv('movie_new_clean.csv', index=False) "
   ]
  },
  {
   "cell_type": "code",
   "execution_count": 14,
   "metadata": {},
   "outputs": [
    {
     "data": {
      "image/png": "[encoded data removed]",
      "text/plain": [
       "<Figure size 864x1080 with 1 Axes>"
      ]
     },
     "metadata": {
      "needs_background": "light"
     },
     "output_type": "display_data"
    }
   ],
   "source": [
    "def freq_words(x, terms = 30): \n",
    "  all_words = ' '.join([text for text in x]) \n",
    "  all_words = all_words.split() \n",
    "  fdist = nltk.FreqDist(all_words) \n",
    "  words_df = pd.DataFrame({'word':list(fdist.keys()), 'count':list(fdist.values())}) \n",
    "  \n",
    "  # selecting top 20 most frequent words \n",
    "  d = words_df.nlargest(columns=\"count\", n = terms) \n",
    "  \n",
    "  # visualize words and frequencies\n",
    "  plt.figure(figsize=(12,15)) \n",
    "  ax = sns.barplot(data=d, x= \"count\", y = \"word\") \n",
    "  ax.set(ylabel = 'Word') \n",
    "  plt.show()\n",
    "  \n",
    "# print 100 most frequent words \n",
    "freq_words(movies_new['clean_plot'], 100)"
   ]
  },
  {
   "cell_type": "code",
   "execution_count": 15,
   "metadata": {},
   "outputs": [],
   "source": [
    "# nltk.download('stopwords')"
   ]
  },
  {
   "cell_type": "code",
   "execution_count": 16,
   "metadata": {},
   "outputs": [],
   "source": [
    "from nltk.corpus import stopwords\n",
    "stop_words = set(stopwords.words('english'))\n",
    "\n",
    "# function to remove stopwords\n",
    "def remove_stopwords(text):\n",
    "    no_stopword_text = [w for w in text.split() if not w in stop_words]\n",
    "    return ' '.join(no_stopword_text)\n",
    "\n",
    "movies_new['clean_plot'] = movies_new['clean_plot'].apply(lambda x: remove_stopwords(x))"
   ]
  },
  {
   "cell_type": "code",
   "execution_count": 17,
   "metadata": {
    "scrolled": true
   },
   "outputs": [
    {
     "data": {
      "image/png": "[encoded data removed]",
      "text/plain": [
       "<Figure size 864x1080 with 1 Axes>"
      ]
     },
     "metadata": {
      "needs_background": "light"
     },
     "output_type": "display_data"
    }
   ],
   "source": [
    "freq_words(movies_new['clean_plot'], 100)"
   ]
  },
  {
   "cell_type": "markdown",
   "metadata": {},
   "source": [
    "## Create the MultiLabel Binarizer Model / One vs Rest Classifier"
   ]
  },
  {
   "cell_type": "code",
   "execution_count": 18,
   "metadata": {},
   "outputs": [
    {
     "data": {
      "text/plain": [
       "array([[0, 0, 0, ..., 0, 0, 0],\n",
       "       [0, 0, 0, ..., 0, 0, 0],\n",
       "       [0, 0, 0, ..., 0, 0, 0],\n",
       "       ...,\n",
       "       [0, 0, 0, ..., 0, 0, 0],\n",
       "       [0, 0, 0, ..., 0, 0, 0],\n",
       "       [0, 0, 0, ..., 1, 0, 0]])"
      ]
     },
     "execution_count": 18,
     "metadata": {},
     "output_type": "execute_result"
    }
   ],
   "source": [
    "from sklearn.preprocessing import MultiLabelBinarizer\n",
    "\n",
    "multilabel_binarizer = MultiLabelBinarizer()\n",
    "multilabel_binarizer.fit(movies_new['genre_new'])\n",
    "\n",
    "# transform target variable\n",
    "y = multilabel_binarizer.transform(movies_new['genre_new'])\n",
    "y"
   ]
  },
  {
   "cell_type": "code",
   "execution_count": 19,
   "metadata": {},
   "outputs": [
    {
     "data": {
      "text/plain": [
       "<14750x10000 sparse matrix of type '<class 'numpy.float64'>'\n",
       "\twith 3712617 stored elements in Compressed Sparse Row format>"
      ]
     },
     "execution_count": 19,
     "metadata": {},
     "output_type": "execute_result"
    }
   ],
   "source": [
    "tfidf_vectorizer = TfidfVectorizer(max_df=0.8, max_features=10000)\n",
    "\n",
    "# create TF-IDF features\n",
    "x_tfidf_fit = tfidf_vectorizer.fit(movies_new['clean_plot'])\n",
    "x_tfidf = tfidf_vectorizer.transform(movies_new['clean_plot'])\n",
    "# x_tfidf = x_tfidf.reshape(x_tfidf.shape[-1:])\n",
    "# xval_tfidf = tfidf_vectorizer.transform(xval)\n",
    "x_tfidf"
   ]
  },
  {
   "cell_type": "code",
   "execution_count": 20,
   "metadata": {},
   "outputs": [
    {
     "name": "stdout",
     "output_type": "stream",
     "text": [
      "(11062, 10000) (11062, 10)\n"
     ]
    }
   ],
   "source": [
    "# split dataset into training and validation set.  The X/Feature is the \"Clean plot\" and the Y/Target is the Genre_new fields.\n",
    "xtrain, xval, ytrain, yval = train_test_split(x_tfidf, y,  random_state=9)\n",
    "print(xtrain.shape, ytrain.shape)"
   ]
  },
  {
   "cell_type": "code",
   "execution_count": 21,
   "metadata": {},
   "outputs": [],
   "source": [
    "from sklearn.linear_model import LogisticRegression\n",
    "\n",
    "# Binary Relevance\n",
    "from sklearn.multiclass import OneVsRestClassifier\n",
    "\n",
    "# Performance metric\n",
    "from sklearn.metrics import f1_score"
   ]
  },
  {
   "cell_type": "code",
   "execution_count": 22,
   "metadata": {},
   "outputs": [],
   "source": [
    "lr = LogisticRegression()\n",
    "clf = OneVsRestClassifier(lr)"
   ]
  },
  {
   "cell_type": "code",
   "execution_count": 23,
   "metadata": {
    "scrolled": false
   },
   "outputs": [
    {
     "name": "stderr",
     "output_type": "stream",
     "text": [
      "C:\\Users\\aa11717\\AppData\\Local\\Continuum\\anaconda3\\envs\\PythonData\\lib\\site-packages\\sklearn\\linear_model\\logistic.py:433: FutureWarning: Default solver will be changed to 'lbfgs' in 0.22. Specify a solver to silence this warning.\n",
      "  FutureWarning)\n"
     ]
    },
    {
     "data": {
      "text/plain": [
       "OneVsRestClassifier(estimator=LogisticRegression(C=1.0, class_weight=None, dual=False, fit_intercept=True,\n",
       "          intercept_scaling=1, max_iter=100, multi_class='warn',\n",
       "          n_jobs=None, penalty='l2', random_state=None, solver='warn',\n",
       "          tol=0.0001, verbose=0, warm_start=False),\n",
       "          n_jobs=None)"
      ]
     },
     "execution_count": 23,
     "metadata": {},
     "output_type": "execute_result"
    }
   ],
   "source": [
    "# fit model on train data\n",
    "clf.fit(xtrain, ytrain)"
   ]
  },
  {
   "cell_type": "code",
   "execution_count": 24,
   "metadata": {},
   "outputs": [],
   "source": [
    "# make predictions for validation set\n",
    "y_pred = clf.predict(xval)"
   ]
  },
  {
   "cell_type": "code",
   "execution_count": 30,
   "metadata": {
    "scrolled": true
   },
   "outputs": [
    {
     "data": {
      "text/plain": [
       "array([[0, 0, 0, 0, 0, 0, 0, 0, 0, 0],\n",
       "       [0, 0, 0, 0, 0, 0, 1, 0, 0, 0],\n",
       "       [0, 0, 0, 0, 0, 0, 1, 0, 0, 0],\n",
       "       [0, 0, 0, 0, 0, 0, 0, 0, 0, 0],\n",
       "       [0, 0, 0, 0, 0, 0, 1, 0, 0, 0]])"
      ]
     },
     "execution_count": 30,
     "metadata": {},
     "output_type": "execute_result"
    }
   ],
   "source": [
    "y_pred[0:5]"
   ]
  },
  {
   "cell_type": "code",
   "execution_count": 26,
   "metadata": {},
   "outputs": [
    {
     "data": {
      "text/plain": [
       "()"
      ]
     },
     "execution_count": 26,
     "metadata": {},
     "output_type": "execute_result"
    }
   ],
   "source": [
    "multilabel_binarizer.inverse_transform(y_pred)[0]"
   ]
  },
  {
   "cell_type": "code",
   "execution_count": 27,
   "metadata": {},
   "outputs": [
    {
     "data": {
      "text/plain": [
       "0.22168989547038329"
      ]
     },
     "execution_count": 27,
     "metadata": {},
     "output_type": "execute_result"
    }
   ],
   "source": [
    "# evaluate performance\n",
    "f1_score(yval, y_pred, average=\"micro\")"
   ]
  },
  {
   "cell_type": "code",
   "execution_count": 28,
   "metadata": {},
   "outputs": [],
   "source": [
    "# predict probabilities\n",
    "y_pred_prob = clf.predict_proba(xval)"
   ]
  },
  {
   "cell_type": "code",
   "execution_count": null,
   "metadata": {},
   "outputs": [],
   "source": []
  },
  {
   "cell_type": "code",
   "execution_count": 29,
   "metadata": {},
   "outputs": [
    {
     "data": {
      "text/plain": [
       "array([[0.07886291, 0.01245713, 0.07767082, 0.02826232, 0.31063017,\n",
       "        0.0061673 , 0.44366879, 0.00273699, 0.02958245, 0.00783492],\n",
       "       [0.11499931, 0.01880064, 0.09504947, 0.02274455, 0.20045035,\n",
       "        0.00648236, 0.50091324, 0.00266007, 0.02828416, 0.00412766],\n",
       "       [0.1316971 , 0.02769998, 0.10096298, 0.01408043, 0.1180951 ,\n",
       "        0.00907658, 0.56175812, 0.0020605 , 0.02689803, 0.00370812],\n",
       "       [0.2746004 , 0.00858283, 0.08172372, 0.03356732, 0.15820498,\n",
       "        0.00581277, 0.42301751, 0.00229851, 0.03900293, 0.00398103],\n",
       "       [0.08772343, 0.00894529, 0.12979519, 0.03781502, 0.19332852,\n",
       "        0.00603281, 0.51774037, 0.00231074, 0.03679312, 0.00331717]])"
      ]
     },
     "execution_count": 29,
     "metadata": {},
     "output_type": "execute_result"
    }
   ],
   "source": [
    "[[max(ii, max_ii) for ii in y_pred_prob[0:5]"
   ]
  },
  {
   "cell_type": "code",
   "execution_count": 39,
   "metadata": {},
   "outputs": [],
   "source": [
    "t = 0.3 # threshold value\n",
    "y_pred_new = (y_pred_prob >= t).astype(int)"
   ]
  },
  {
   "cell_type": "code",
   "execution_count": 40,
   "metadata": {},
   "outputs": [
    {
     "data": {
      "text/plain": [
       "array([[0, 0, 0, 0, 1, 0, 1, 0, 0, 0],\n",
       "       [0, 0, 0, 0, 0, 0, 1, 0, 0, 0],\n",
       "       [0, 0, 0, 0, 0, 0, 1, 0, 0, 0],\n",
       "       [0, 0, 0, 0, 0, 0, 1, 0, 0, 0],\n",
       "       [0, 0, 0, 0, 0, 0, 1, 0, 0, 0]])"
      ]
     },
     "execution_count": 40,
     "metadata": {},
     "output_type": "execute_result"
    }
   ],
   "source": [
    "y_pred_new[0:5]"
   ]
  },
  {
   "cell_type": "code",
   "execution_count": 32,
   "metadata": {},
   "outputs": [
    {
     "data": {
      "text/plain": [
       "0.4357189757058437"
      ]
     },
     "execution_count": 32,
     "metadata": {},
     "output_type": "execute_result"
    }
   ],
   "source": [
    "# evaluate performance\n",
    "f1_score(yval, y_pred_new, average=\"micro\")"
   ]
  },
  {
   "cell_type": "code",
   "execution_count": 33,
   "metadata": {},
   "outputs": [],
   "source": [
    "# multilabel_binarizer.inverse_transform(y_pred)"
   ]
  },
  {
   "cell_type": "markdown",
   "metadata": {},
   "source": [
    "## Save the Model"
   ]
  },
  {
   "cell_type": "code",
   "execution_count": 34,
   "metadata": {},
   "outputs": [],
   "source": [
    "# Save the model using pickle vs the h5 in neural networks\n",
    "# model.save(\"movie_genrepredict.h5\")\n",
    "import pickle\n",
    "from sklearn.externals import joblib\n",
    "# save the model to disk\n",
    "modelname = 'movie_genrepredict.sav'\n",
    "pickle.dump(clf, open(modelname, 'wb'))\n",
    "\n",
    "# joblib.dump(clf,'movie_genrepredict.pkl')\n",
    "transformname = 'movie_genretranformpredict.sav'\n",
    "pickle.dump(tfidf_vectorizer, open(transformname, 'wb'))\n",
    "\n",
    "multiname = 'movie_genreyvaluepredict.sav'\n",
    "pickle.dump(multilabel_binarizer, open(multiname, 'wb'))"
   ]
  },
  {
   "cell_type": "markdown",
   "metadata": {},
   "source": [
    "## Import the model and Score it"
   ]
  },
  {
   "cell_type": "code",
   "execution_count": 35,
   "metadata": {},
   "outputs": [],
   "source": [
    "# Load the model\n",
    "# from tensorflow.keras.models import load_model\n",
    "# model = load_model(\"movie_trained.h5\")\n",
    "\n",
    "# load the model from disk\n",
    "# filename = 'movie_genrepredict.sav'\n",
    "# loaded_model = pickle.load(open(filename, 'rb'))\n",
    "# result = loaded_model.score(xval, yval) ## Performing the score on the test data\n",
    "# print(result)"
   ]
  },
  {
   "cell_type": "markdown",
   "metadata": {},
   "source": [
    "## MultiLabel Binarizer Predict Movie"
   ]
  },
  {
   "cell_type": "code",
   "execution_count": 50,
   "metadata": {},
   "outputs": [],
   "source": [
    "def infer_tags(q):\n",
    "    q = clean_text(q) ## Defined function for clean\n",
    "    q = remove_stopwords(q) ## Defined function for removing stop words\n",
    "    q_vec = tfidf_vectorizer.transform([q]) ##create TF-IDF features \n",
    "    q_pred = clf.predict(q_vec) ## The models predict.\n",
    "    return multilabel_binarizer.inverse_transform(q_pred)\n",
    "\n",
    "def infer_tags_prob(q, t=0.3):\n",
    "    q = clean_text(q) ## Defined function for clean\n",
    "    q = remove_stopwords(q) ## Defined function for removing stop words\n",
    "    q_vec = tfidf_vectorizer.transform([q]) ##create TF-IDF features \n",
    "    q_pred = clf.predict_proba(q_vec) ## The models predict.\n",
    "    q_pred_new = (q_pred >= t).astype(int)\n",
    "    return multilabel_binarizer.inverse_transform(q_pred_new)"
   ]
  },
  {
   "cell_type": "code",
   "execution_count": 55,
   "metadata": {},
   "outputs": [
    {
     "data": {
      "text/plain": [
       "'drama, murder'"
      ]
     },
     "execution_count": 55,
     "metadata": {},
     "output_type": "execute_result"
    }
   ],
   "source": [
    "', '.join(infer_tags_prob(k)[0])"
   ]
  },
  {
   "cell_type": "code",
   "execution_count": 54,
   "metadata": {},
   "outputs": [
    {
     "name": "stdout",
     "output_type": "stream",
     "text": [
      "Predicted genre:  [()]\n"
     ]
    }
   ],
   "source": [
    "k = \"This food was absolutely the worst thing I have ever eaten, stomach thought I was eating Taco Bell and tongue thought I was eating dirt.\"\n",
    "print(\"Predicted genre: \", infer_tags(k))"
   ]
  },
  {
   "cell_type": "code",
   "execution_count": 47,
   "metadata": {},
   "outputs": [
    {
     "name": "stdout",
     "output_type": "stream",
     "text": [
      "Movie:  I tre volti della paura \n",
      "Predicted genre:  [()]\n",
      "Actual genre:  ['murder'] \n",
      "\n",
      "Movie:  Dungeons & Dragons: The Book of Vile Darkness \n",
      "Predicted genre:  [('murder',)]\n",
      "Actual genre:  ['murder'] \n",
      "\n",
      "Movie:  The Shop Around the Corner \n",
      "Predicted genre:  [('murder',)]\n",
      "Actual genre:  ['drama'] \n",
      "\n",
      "Movie:  Mr. Holland's Opus \n",
      "Predicted genre:  [()]\n",
      "Actual genre:  ['drama'] \n",
      "\n",
      "Movie:  Scarface \n",
      "Predicted genre:  [('murder',)]\n",
      "Actual genre:  ['murder'] \n",
      "\n",
      "Movie:  A Single Man \n",
      "Predicted genre:  [('murder',)]\n",
      "Actual genre:  ['drama'] \n",
      "\n",
      "Movie:  Baise-moi \n",
      "Predicted genre:  [()]\n",
      "Actual genre:  ['drama'] \n",
      "\n",
      "Movie:  Flightplan \n",
      "Predicted genre:  [()]\n",
      "Actual genre:  ['sci-fi'] \n",
      "\n",
      "Movie:  Little Caesar \n",
      "Predicted genre:  [()]\n",
      "Actual genre:  ['murder'] \n",
      "\n",
      "Movie:  Savages \n",
      "Predicted genre:  [()]\n",
      "Actual genre:  ['action'] \n",
      "\n",
      "Movie:  Mitt liv som hund \n",
      "Predicted genre:  [()]\n",
      "Actual genre:  ['murder'] \n",
      "\n",
      "Movie:  The Brood \n",
      "Predicted genre:  [('murder',)]\n",
      "Actual genre:  ['murder'] \n",
      "\n",
      "Movie:  Cassandra's Dream \n",
      "Predicted genre:  [()]\n",
      "Actual genre:  ['drama'] \n",
      "\n",
      "Movie:  The Last Emperor \n",
      "Predicted genre:  [('murder',)]\n",
      "Actual genre:  ['murder'] \n",
      "\n",
      "Movie:  My Life So Far \n",
      "Predicted genre:  [()]\n",
      "Actual genre:  ['drama'] \n",
      "\n",
      "Movie:  Call of Duty: Modern Warfare 3 \n",
      "Predicted genre:  [()]\n",
      "Actual genre:  ['action'] \n",
      "\n",
      "Movie:  Fish Tank \n",
      "Predicted genre:  [()]\n",
      "Actual genre:  ['drama'] \n",
      "\n",
      "Movie:  The New World \n",
      "Predicted genre:  [('drama',)]\n",
      "Actual genre:  ['drama'] \n",
      "\n",
      "Movie:  Jackie \n",
      "Predicted genre:  [('murder',)]\n",
      "Actual genre:  ['drama'] \n",
      "\n",
      "Movie:  The Haunted \n",
      "Predicted genre:  [()]\n",
      "Actual genre:  ['murder'] \n",
      "\n",
      "Movie:  Assault on Precinct 13 \n",
      "Predicted genre:  [('drama',)]\n",
      "Actual genre:  ['drama'] \n",
      "\n",
      "Movie:  The Best Years of Our Lives \n",
      "Predicted genre:  [()]\n",
      "Actual genre:  ['drama'] \n",
      "\n",
      "Movie:  House Arrest \n",
      "Predicted genre:  [()]\n",
      "Actual genre:  ['drama'] \n",
      "\n",
      "Movie:  Bitter Moon \n",
      "Predicted genre:  [('drama',)]\n",
      "Actual genre:  ['comedy'] \n",
      "\n",
      "Movie:  The Frozen Ground \n",
      "Predicted genre:  [('drama',)]\n",
      "Actual genre:  ['drama'] \n",
      "\n",
      "Movie:  The Forbidden Kingdom \n",
      "Predicted genre:  [()]\n",
      "Actual genre:  ['sci-fi'] \n",
      "\n",
      "Movie:  The Help \n",
      "Predicted genre:  [()]\n",
      "Actual genre:  ['documentary'] \n",
      "\n",
      "Movie:  No Strings Attached \n",
      "Predicted genre:  [()]\n",
      "Actual genre:  ['drama'] \n",
      "\n",
      "Movie:  Bean \n",
      "Predicted genre:  [()]\n",
      "Actual genre:  ['murder'] \n",
      "\n",
      "Movie:  The Inbetweeners Movie \n",
      "Predicted genre:  [()]\n",
      "Actual genre:  ['murder'] \n",
      "\n",
      "Movie:  Taste of Fear \n",
      "Predicted genre:  [()]\n",
      "Actual genre:  ['murder'] \n",
      "\n",
      "Movie:  13 Ghosts \n",
      "Predicted genre:  [('murder',)]\n",
      "Actual genre:  ['action'] \n",
      "\n",
      "Movie:  Ultraviolet \n",
      "Predicted genre:  [()]\n",
      "Actual genre:  ['murder'] \n",
      "\n",
      "Movie:  The Initiation \n",
      "Predicted genre:  [()]\n",
      "Actual genre:  ['murder'] \n",
      "\n",
      "Movie:  Busanhaeng \n",
      "Predicted genre:  [()]\n",
      "Actual genre:  ['murder'] \n",
      "\n",
      "Movie:  Dead & Breakfast \n",
      "Predicted genre:  [()]\n",
      "Actual genre:  ['murder'] \n",
      "\n",
      "Movie:  The Matador \n",
      "Predicted genre:  [()]\n",
      "Actual genre:  ['drama'] \n",
      "\n",
      "Movie:  Seven Years in Tibet \n",
      "Predicted genre:  [()]\n",
      "Actual genre:  ['murder'] \n",
      "\n",
      "Movie:  Dracula 2000 \n",
      "Predicted genre:  [('drama',)]\n",
      "Actual genre:  ['comedy'] \n",
      "\n",
      "Movie:  Whale Rider \n",
      "Predicted genre:  [('drama',)]\n",
      "Actual genre:  ['drama'] \n",
      "\n",
      "Movie:  A Cure for Wellness \n",
      "Predicted genre:  [()]\n",
      "Actual genre:  ['murder'] \n",
      "\n",
      "Movie:  Nayakan \n",
      "Predicted genre:  [()]\n",
      "Actual genre:  ['action'] \n",
      "\n",
      "Movie:  Saints and Soldiers \n",
      "Predicted genre:  [()]\n",
      "Actual genre:  ['murder'] \n",
      "\n",
      "Movie:  The Amazing Spider-Man \n",
      "Predicted genre:  [()]\n",
      "Actual genre:  ['murder'] \n",
      "\n",
      "Movie:  Paddington \n",
      "Predicted genre:  [()]\n",
      "Actual genre:  ['comedy'] \n",
      "\n",
      "Movie:  Victoria \n",
      "Predicted genre:  [()]\n",
      "Actual genre:  ['drama'] \n",
      "\n",
      "Movie:  I vitelloni \n",
      "Predicted genre:  [()]\n",
      "Actual genre:  ['drama'] \n",
      "\n",
      "Movie:  War Room \n",
      "Predicted genre:  [()]\n",
      "Actual genre:  ['religious'] \n",
      "\n",
      "Movie:  Invasion of the Bee Girls \n",
      "Predicted genre:  [()]\n",
      "Actual genre:  ['drama'] \n",
      "\n",
      "Movie:  Batman Beyond: Return of the Joker \n",
      "Predicted genre:  [()]\n",
      "Actual genre:  ['comedy'] \n",
      "\n",
      "Movie:  Alien \n",
      "Predicted genre:  [('drama',)]\n",
      "Actual genre:  ['drama'] \n",
      "\n",
      "Movie:  Hotel Chevalier \n",
      "Predicted genre:  [()]\n",
      "Actual genre:  ['drama'] \n",
      "\n",
      "Movie:  Spud \n",
      "Predicted genre:  [('drama',)]\n",
      "Actual genre:  ['comedy'] \n",
      "\n",
      "Movie:  Timber Falls \n",
      "Predicted genre:  [()]\n",
      "Actual genre:  ['murder'] \n",
      "\n",
      "Movie:  The Core \n",
      "Predicted genre:  [('drama',)]\n",
      "Actual genre:  ['drama'] \n",
      "\n",
      "Movie:  Now, Voyager \n",
      "Predicted genre:  [()]\n",
      "Actual genre:  ['drama'] \n",
      "\n",
      "Movie:  Rivals \n",
      "Predicted genre:  [()]\n",
      "Actual genre:  ['murder'] \n",
      "\n",
      "Movie:  A Most Violent Year \n",
      "Predicted genre:  [('drama',)]\n",
      "Actual genre:  ['murder'] \n",
      "\n",
      "Movie:  Stella \n",
      "Predicted genre:  [()]\n",
      "Actual genre:  ['drama'] \n",
      "\n",
      "Movie:  The Men Who Stare at Goats \n",
      "Predicted genre:  [()]\n",
      "Actual genre:  ['comedy'] \n",
      "\n",
      "Movie:  Strangers on a Train \n",
      "Predicted genre:  [()]\n",
      "Actual genre:  ['murder'] \n",
      "\n",
      "Movie:  Die Hard with a Vengeance \n",
      "Predicted genre:  [()]\n",
      "Actual genre:  ['comedy'] \n",
      "\n",
      "Movie:  Red Dead Redemption \n",
      "Predicted genre:  [()]\n",
      "Actual genre:  ['action'] \n",
      "\n",
      "Movie:  Justice League: The New Frontier \n",
      "Predicted genre:  [()]\n",
      "Actual genre:  ['murder'] \n",
      "\n",
      "Movie:  The Bourne Legacy \n",
      "Predicted genre:  [('murder',)]\n",
      "Actual genre:  ['drama'] \n",
      "\n",
      "Movie:  The Wanderers \n",
      "Predicted genre:  [()]\n",
      "Actual genre:  ['murder'] \n",
      "\n",
      "Movie:  Hatari! \n",
      "Predicted genre:  [()]\n",
      "Actual genre:  ['murder'] \n",
      "\n",
      "Movie:  Under Siege \n",
      "Predicted genre:  [()]\n",
      "Actual genre:  ['comedy'] \n",
      "\n",
      "Movie:  W. \n",
      "Predicted genre:  [()]\n",
      "Actual genre:  ['action'] \n",
      "\n",
      "Movie:  El espinazo del diablo \n",
      "Predicted genre:  [('drama',)]\n",
      "Actual genre:  ['drama'] \n",
      "\n",
      "Movie:  Big Nothing \n",
      "Predicted genre:  [('murder',)]\n",
      "Actual genre:  ['drama'] \n",
      "\n",
      "Movie:  Dom Hemingway \n",
      "Predicted genre:  [()]\n",
      "Actual genre:  ['action'] \n",
      "\n",
      "Movie:  Shuttle \n",
      "Predicted genre:  [()]\n",
      "Actual genre:  ['murder'] \n",
      "\n",
      "Movie:  Kapringen \n",
      "Predicted genre:  [()]\n",
      "Actual genre:  ['drama'] \n",
      "\n",
      "Movie:  The Devil's Double \n",
      "Predicted genre:  [()]\n",
      "Actual genre:  ['action'] \n",
      "\n",
      "Movie:  Fantastic Voyage \n",
      "Predicted genre:  [()]\n",
      "Actual genre:  ['murder'] \n",
      "\n",
      "Movie:  The Mentalist \n",
      "Predicted genre:  [()]\n",
      "Actual genre:  ['murder'] \n",
      "\n",
      "Movie:  Dog Day Afternoon \n",
      "Predicted genre:  [()]\n",
      "Actual genre:  ['comedy'] \n",
      "\n",
      "Movie:  Moonstruck \n",
      "Predicted genre:  [('drama',)]\n",
      "Actual genre:  ['drama'] \n",
      "\n",
      "Movie:  Mad Max 2 \n",
      "Predicted genre:  [()]\n",
      "Actual genre:  ['comedy'] \n",
      "\n",
      "Movie:  Antares \n",
      "Predicted genre:  [()]\n",
      "Actual genre:  ['murder'] \n",
      "\n",
      "Movie:  A Boy and His Dog \n",
      "Predicted genre:  [()]\n",
      "Actual genre:  ['comedy'] \n",
      "\n",
      "Movie:  Cat's Eye \n",
      "Predicted genre:  [()]\n",
      "Actual genre:  ['murder'] \n",
      "\n",
      "Movie:  Bloomington \n",
      "Predicted genre:  [()]\n",
      "Actual genre:  ['drama'] \n",
      "\n",
      "Movie:  The Wolf Man \n",
      "Predicted genre:  [('murder',)]\n",
      "Actual genre:  ['action'] \n",
      "\n",
      "Movie:  Sinbad and the Eye of the Tiger \n",
      "Predicted genre:  [()]\n",
      "Actual genre:  ['action'] \n",
      "\n",
      "Movie:  Bowling for Columbine \n",
      "Predicted genre:  [('murder',)]\n",
      "Actual genre:  ['drama'] \n",
      "\n",
      "Movie:  Tenacious D in The Pick of Destiny \n",
      "Predicted genre:  [()]\n",
      "Actual genre:  ['murder'] \n",
      "\n",
      "Movie:  Fuk sau che chi sei \n",
      "Predicted genre:  [()]\n",
      "Actual genre:  ['murder'] \n",
      "\n",
      "Movie:  Twilight \n",
      "Predicted genre:  [('drama',)]\n",
      "Actual genre:  ['sci-fi'] \n",
      "\n",
      "Movie:  Guardians of the Galaxy \n",
      "Predicted genre:  [()]\n",
      "Actual genre:  ['sci-fi'] \n",
      "\n",
      "Movie:  Captain America: The Winter Soldier \n",
      "Predicted genre:  [()]\n",
      "Actual genre:  ['murder'] \n",
      "\n",
      "Movie:  The Hamiltons \n",
      "Predicted genre:  [()]\n",
      "Actual genre:  ['murder'] \n",
      "\n",
      "Movie:  Asoka \n",
      "Predicted genre:  [()]\n",
      "Actual genre:  ['murder'] \n",
      "\n",
      "Movie:  Bataan \n",
      "Predicted genre:  [()]\n",
      "Actual genre:  ['murder'] \n",
      "\n",
      "Movie:  Henry: Portrait of a Serial Killer \n",
      "Predicted genre:  [()]\n",
      "Actual genre:  ['drama'] \n",
      "\n",
      "Movie:  In Time \n",
      "Predicted genre:  [('murder',)]\n",
      "Actual genre:  ['drama'] \n",
      "\n",
      "Movie:  Night of the Lepus \n",
      "Predicted genre:  [()]\n",
      "Actual genre:  ['murder'] \n",
      "\n",
      "Movie:  14 Going on 30 \n",
      "Predicted genre:  [()]\n",
      "Actual genre:  ['drama'] \n",
      "\n",
      "Movie:  The Mummy: Tomb of the Dragon Emperor \n",
      "Predicted genre:  [()]\n",
      "Actual genre:  ['drama'] \n",
      "\n"
     ]
    }
   ],
   "source": [
    "for i in range(100):  ## Prediction made on 100 samples from Test in test train split.\n",
    "    k = clf.predict(xval[i])\n",
    "    l = multilabel_binarizer.inverse_transform(k)\n",
    "#     print(l)\n",
    "    print(\"Movie: \", movies_new['title'][i], \"\\nPredicted genre: \", (l)), print(\"Actual genre: \",movies_new['genre_new'][i], \"\\n\")\n",
    "#     print(\"Movie: \", movies_new['title'][i])\n",
    "#     print(\"Predicted genre: \", (l))\n",
    "#    print(\"Actual genre: \",movies_new['genre_new'][i])"
   ]
  },
  {
   "cell_type": "code",
   "execution_count": null,
   "metadata": {},
   "outputs": [],
   "source": [
    "# Shows the sample plot from the test data and will generated random sample:\n",
    "# k = xval.sample(1)\n",
    "# print(k)"
   ]
  },
  {
   "cell_type": "code",
   "execution_count": null,
   "metadata": {},
   "outputs": [],
   "source": [
    "# Manually create the prediction based on the index value from previous cell (from random sample test):\n",
    "# k = xval.sample(1).index[0] ## Looking for the index value in the test sample.\n",
    "# print(infer_tags(xval[2786]))"
   ]
  },
  {
   "cell_type": "markdown",
   "metadata": {},
   "source": [
    "## Create Random Forest Model"
   ]
  },
  {
   "cell_type": "code",
   "execution_count": null,
   "metadata": {},
   "outputs": [],
   "source": [
    "from sklearn.ensemble import RandomForestClassifier\n",
    "### numpy for seed.  Good practice for reproducibility, not something we touched on but worth wild to look further.\n",
    "import numpy as np\n",
    "from numpy import random\n",
    "\n",
    "SEED = 1234\n",
    "\n",
    "random.seed(SEED)\n",
    "\n",
    "clf = RandomForestClassifier(n_estimators=500, max_depth=10, random_state=SEED).fit(xtrain, ytrain)\n",
    "y_pred = clf.predict(xval)"
   ]
  },
  {
   "cell_type": "code",
   "execution_count": null,
   "metadata": {},
   "outputs": [],
   "source": [
    "y_pred"
   ]
  },
  {
   "cell_type": "code",
   "execution_count": null,
   "metadata": {},
   "outputs": [],
   "source": [
    "from sklearn.metrics import confusion_matrix, accuracy_score\n",
    "# confusion_matrix(yval, y_pred)\n",
    "print(\"Accuracy of base model is {:.2f} %\".format(accuracy_score(yval, y_pred)*100))"
   ]
  },
  {
   "cell_type": "code",
   "execution_count": null,
   "metadata": {},
   "outputs": [],
   "source": [
    "# Example from Roberts NLP:\n",
    "\n",
    "# review = \"This food was absolutely the worst thing I have ever eaten, stomach thought I was eating Taco Bell and tongue thought I was eating dirt.\"\n",
    "# Will need to pass in the followoing columsn:  imdb_id, title, plot_synopsis, tags, split, synopsis_source, genre_new, clean_plot\n",
    "\n",
    "### Transform Review\n",
    "# review_transformed = tf.transform([review])\n",
    "\n",
    "### Make Prediction\n",
    "# pred = clf.predict(review_transformed)\n",
    "\n",
    "### Using the defined `class_names` get the predicted Polarity ( negative/positive )\n",
    "# print(\"Review was {}\".format(class_names[pred[0]]))"
   ]
  },
  {
   "cell_type": "code",
   "execution_count": null,
   "metadata": {},
   "outputs": [],
   "source": [
    "from sklearn import tree\n",
    "clf = tree.DecisionTreeClassifier()\n",
    "clf = clf.fit(xtrain, ytrain)\n",
    "print(clf)"
   ]
  },
  {
   "cell_type": "code",
   "execution_count": null,
   "metadata": {},
   "outputs": [],
   "source": [
    "# Need to have graphviz installed on machine and the pip install\n",
    "# import graphviz \n",
    "# dot_data = tree.export_graphviz(\n",
    "#     clf, out_file=None, \n",
    "#     feature_names=xval.feature_names,  \n",
    "#     class_names=yval.target_names,  \n",
    "#     filled=True, rounded=True,  \n",
    "#     special_characters=True)  \n",
    "\n",
    "# import pydotplus\n",
    "# graph = pydotplus.graph_from_dot_data(dot_data)\n",
    "# graph.write_png('iris.png')\n",
    "\n",
    "# graph = graphviz.Source(dot_data)  \n",
    "# graph "
   ]
  },
  {
   "cell_type": "markdown",
   "metadata": {},
   "source": [
    "## Create Gridsearch Model"
   ]
  },
  {
   "cell_type": "code",
   "execution_count": null,
   "metadata": {},
   "outputs": [],
   "source": [
    "# Support vector machine linear classifier\n",
    "from sklearn.svm import SVC \n",
    "model = SVC(kernel='linear')"
   ]
  },
  {
   "cell_type": "code",
   "execution_count": null,
   "metadata": {},
   "outputs": [],
   "source": [
    "from sklearn.model_selection import GridSearchCV\n",
    "param_grid = {'C': [1, 5, 10],\n",
    "              'gamma': [0.0001, 0.001, 0.01]}\n",
    "grid = GridSearchCV(model, param_grid, verbose=3)"
   ]
  },
  {
   "cell_type": "code",
   "execution_count": null,
   "metadata": {},
   "outputs": [],
   "source": [
    "xtrain.shape"
   ]
  },
  {
   "cell_type": "code",
   "execution_count": null,
   "metadata": {},
   "outputs": [],
   "source": [
    "ytrain[0:5]"
   ]
  },
  {
   "cell_type": "code",
   "execution_count": null,
   "metadata": {},
   "outputs": [],
   "source": [
    "# Fit the model using the grid search estimator. \n",
    "# This will take the SVC model and try each combination of parameters\n",
    "grid.fit(xtrain, ytrain)"
   ]
  },
  {
   "cell_type": "code",
   "execution_count": null,
   "metadata": {},
   "outputs": [],
   "source": [
    "# List the best parameters for this dataset\n",
    "print(grid.best_params_)"
   ]
  },
  {
   "cell_type": "code",
   "execution_count": null,
   "metadata": {},
   "outputs": [],
   "source": [
    "# List the best score\n",
    "print(grid.best_score_)"
   ]
  },
  {
   "cell_type": "code",
   "execution_count": null,
   "metadata": {},
   "outputs": [],
   "source": [
    "# Make predictions with the hypertuned model\n",
    "predictions = grid.predict(X_test)"
   ]
  },
  {
   "cell_type": "code",
   "execution_count": null,
   "metadata": {},
   "outputs": [],
   "source": [
    "# Calculate classification report\n",
    "from sklearn.metrics import classification_report\n",
    "print(classification_report(y_test, predictions,\n",
    "                            target_names=[\"blue\", \"red\"]))"
   ]
  },
  {
   "cell_type": "code",
   "execution_count": null,
   "metadata": {},
   "outputs": [],
   "source": [
    "# evaluate performance\n",
    "f1_score(yval, y_pred, average=\"micro\")"
   ]
  },
  {
   "cell_type": "markdown",
   "metadata": {},
   "source": [
    "## Create KNN (Next Nearest Neighbor) Model"
   ]
  },
  {
   "cell_type": "code",
   "execution_count": 56,
   "metadata": {},
   "outputs": [
    {
     "name": "stdout",
     "output_type": "stream",
     "text": [
      "k: 1, Train/Test Score: 0.965/0.286\n",
      "k: 3, Train/Test Score: 0.474/0.213\n",
      "k: 5, Train/Test Score: 0.332/0.183\n",
      "k: 7, Train/Test Score: 0.262/0.159\n",
      "k: 9, Train/Test Score: 0.214/0.132\n",
      "k: 11, Train/Test Score: 0.182/0.118\n",
      "k: 13, Train/Test Score: 0.154/0.108\n",
      "k: 15, Train/Test Score: 0.137/0.095\n",
      "k: 17, Train/Test Score: 0.126/0.089\n",
      "k: 19, Train/Test Score: 0.113/0.084\n",
      "k: 21, Train/Test Score: 0.105/0.075\n",
      "k: 23, Train/Test Score: 0.100/0.076\n",
      "k: 25, Train/Test Score: 0.090/0.068\n",
      "k: 27, Train/Test Score: 0.085/0.065\n",
      "k: 29, Train/Test Score: 0.078/0.064\n",
      "k: 31, Train/Test Score: 0.074/0.062\n",
      "k: 33, Train/Test Score: 0.072/0.057\n",
      "k: 35, Train/Test Score: 0.067/0.053\n",
      "k: 37, Train/Test Score: 0.063/0.050\n",
      "k: 39, Train/Test Score: 0.061/0.050\n",
      "k: 41, Train/Test Score: 0.059/0.045\n",
      "k: 43, Train/Test Score: 0.055/0.043\n",
      "k: 45, Train/Test Score: 0.053/0.039\n",
      "k: 47, Train/Test Score: 0.049/0.037\n",
      "k: 49, Train/Test Score: 0.048/0.033\n"
     ]
    },
    {
     "data": {
      "image/png": "[encoded data removed]",
      "text/plain": [
       "<Figure size 432x288 with 1 Axes>"
      ]
     },
     "metadata": {
      "needs_background": "light"
     },
     "output_type": "display_data"
    }
   ],
   "source": [
    "from sklearn.neighbors import KNeighborsClassifier\n",
    "# Loop through different k values to see which has the highest accuracy\n",
    "# Note: We only use odd numbers because we don't want any ties\n",
    "train_scores = []\n",
    "test_scores = []\n",
    "for k in range(1, 50, 2):\n",
    "    knn = KNeighborsClassifier(n_neighbors=k)\n",
    "    knn.fit(xtrain, ytrain)\n",
    "    train_score = knn.score(xtrain, ytrain)\n",
    "    test_score = knn.score(xval, yval)\n",
    "    train_scores.append(train_score)\n",
    "    test_scores.append(test_score)\n",
    "    print(f\"k: {k}, Train/Test Score: {train_score:.3f}/{test_score:.3f}\")\n",
    "    \n",
    "    \n",
    "plt.plot(range(1, 50, 2), train_scores, marker='o')\n",
    "plt.plot(range(1, 50, 2), test_scores, marker=\"x\")\n",
    "plt.xlabel(\"k neighbors\")\n",
    "plt.ylabel(\"Testing accuracy Score\")\n",
    "plt.show()"
   ]
  },
  {
   "cell_type": "code",
   "execution_count": null,
   "metadata": {},
   "outputs": [],
   "source": [
    "# Note that k: 13 seems to be the best choice for this dataset\n",
    "knn = KNeighborsClassifier(n_neighbors=8)\n",
    "knn.fit(xtrain, ytrain)\n",
    "print('k=30 Test Acc: %.3f' % knn.score(xval, yval))"
   ]
  },
  {
   "cell_type": "code",
   "execution_count": null,
   "metadata": {},
   "outputs": [],
   "source": []
  }
 ],
 "metadata": {
  "kernelspec": {
   "display_name": "Python 3",
   "language": "python",
   "name": "python3"
  },
  "language_info": {
   "codemirror_mode": {
    "name": "ipython",
    "version": 3
   },
   "file_extension": ".py",
   "mimetype": "text/x-python",
   "name": "python",
   "nbconvert_exporter": "python",
   "pygments_lexer": "ipython3",
   "version": "3.6.7"
  },
  "varInspector": {
   "cols": {
    "lenName": 16,
    "lenType": 16,
    "lenVar": 40
   },
   "kernels_config": {
    "python": {
     "delete_cmd_postfix": "",
     "delete_cmd_prefix": "del ",
     "library": "var_list.py",
     "varRefreshCmd": "print(var_dic_list())"
    },
    "r": {
     "delete_cmd_postfix": ") ",
     "delete_cmd_prefix": "rm(",
     "library": "var_list.r",
     "varRefreshCmd": "cat(var_dic_list()) "
    }
   },
   "types_to_exclude": [
    "module",
    "function",
    "builtin_function_or_method",
    "instance",
    "_Feature"
   ],
   "window_display": false
  }
 },
 "nbformat": 4,
 "nbformat_minor": 2
}
